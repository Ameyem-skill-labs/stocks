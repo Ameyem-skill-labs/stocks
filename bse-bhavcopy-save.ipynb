{
 "cells": [
  {
   "cell_type": "code",
   "execution_count": 4,
   "metadata": {},
   "outputs": [
    {
     "name": "stdout",
     "output_type": "stream",
     "text": [
      "10-02-2018 Sat| File not exists** 0 files down loaded witing for 10secs..\n",
      "last 100files took ..\n",
      "0:00:00.273493\n",
      "From first it took ..0:00:00.274493\n",
      "09-02-2018 Fri| File not exists** 0 files down loaded witing for 10secs..\n",
      "last 100files took ..\n",
      "0:00:00.137036\n",
      "From first it took ..0:00:00.411529\n",
      "08-02-2018 Thu| File not exists** 0 files down loaded witing for 10secs..\n",
      "last 100files took ..\n",
      "0:00:00.167150\n",
      "From first it took ..0:00:00.578679\n",
      "07-02-2018 Wed| File not exists** 0 files down loaded witing for 10secs..\n",
      "last 100files took ..\n",
      "0:00:00.170571\n",
      "From first it took ..0:00:00.749250\n",
      "06-02-2018 Tue| File not exists** 0 files down loaded witing for 10secs..\n",
      "last 100files took ..\n",
      "0:00:00.137139\n",
      "From first it took ..0:00:00.886389\n",
      "05-02-2018 Mon| File not exists** 0 files down loaded witing for 10secs..\n",
      "last 100files took ..\n",
      "0:00:00.615546\n",
      "From first it took ..0:00:01.501935\n",
      "03-02-2018 Sat| File not exists** 0 files down loaded witing for 10secs..\n",
      "last 100files took ..\n",
      "0:00:00.152477\n",
      "From first it took ..0:00:01.654412\n",
      "02-02-2018 Fri| File not exists** 0 files down loaded witing for 10secs..\n",
      "last 100files took ..\n",
      "0:00:00.146391\n",
      "From first it took ..0:00:01.800803\n",
      "01-02-2018 Thu| File not exists** 0 files down loaded witing for 10secs..\n",
      "last 100files took ..\n",
      "0:00:00.622083\n",
      "From first it took ..0:00:02.422886\n",
      "31-01-2018 Wed| File not exists** 0 files down loaded witing for 10secs..\n",
      "last 100files took ..\n",
      "0:00:00.307422\n",
      "From first it took ..0:00:02.730308\n",
      "30-01-2018 Tue| File not exists** 0 files down loaded witing for 10secs..\n",
      "last 100files took ..\n",
      "0:00:00.306559\n",
      "From first it took ..0:00:03.036867\n",
      "29-01-2018 Mon| File not exists** 0 files down loaded witing for 10secs..\n",
      "last 100files took ..\n",
      "0:00:00.616020\n",
      "From first it took ..0:00:03.652887\n",
      "27-01-2018 Sat| File not exists** 0 files down loaded witing for 10secs..\n",
      "last 100files took ..\n",
      "0:00:00.155194\n",
      "From first it took ..0:00:03.808081\n",
      "26-01-2018 Fri| File not exists** 0 files down loaded witing for 10secs..\n",
      "last 100files took ..\n",
      "0:00:00.145588\n",
      "From first it took ..0:00:03.953669\n",
      "25-01-2018 Thu| File not exists** 0 files down loaded witing for 10secs..\n",
      "last 100files took ..\n",
      "0:00:00.137106\n",
      "From first it took ..0:00:04.090775\n",
      "24-01-2018 Wed| File not exists** 0 files down loaded witing for 10secs..\n",
      "last 100files took ..\n",
      "0:00:00.148864\n",
      "From first it took ..0:00:04.239639\n",
      "23-01-2018 Tue| File not exists** 0 files down loaded witing for 10secs..\n",
      "last 100files took ..\n",
      "0:00:00.143382\n",
      "From first it took ..0:00:04.383021\n"
     ]
    }
   ],
   "source": [
    "# \"http://www.bseindia.com/download/BhavCopy/Equity/EQ220118_CSV.ZIP\"\n",
    "            \n",
    "from io import BytesIO\n",
    "from zipfile import ZipFile\n",
    "import urllib.request\n",
    "from datetime import date, datetime\n",
    "\n",
    "def bsebhavsave(urlstr,folderpath):\n",
    "    url = urllib.request.urlopen(urlstr)\n",
    "    with ZipFile(BytesIO(url.read())) as my_zip_file:\n",
    "            my_zip_file.extractall(folderpath)\n",
    "# 06-08-2008            \n",
    "recentdate=date(2007, 12, 5).toordinal() #Recent\n",
    "recentdate=datetime.now().toordinal()\n",
    "olddate=date(2018, 1, 22).toordinal()   #old from 2007, 12, 5 to 2007, 6, 5 done\n",
    "urlfmt=\"http://www.bseindia.com/download/BhavCopy/Equity/EQ%d%m%y_CSV.ZIP\"\n",
    "k=0\n",
    "started=datetime.now()\n",
    "old=datetime.now()\n",
    "for i in range(recentdate,olddate,-1): #728110 729109,728110\n",
    "    d = date.fromordinal(i)    \n",
    "    if (d.strftime('%a')!='Sun'):\n",
    "        print(d.strftime(\"%d-%m-%Y %a\"),end=\"| \")    \n",
    "        urlstr=d.strftime(urlfmt)\n",
    "        try:\n",
    "            bsebhavsave(urlstr,'./BSE/')\n",
    "            k+=1\n",
    "        except:\n",
    "            print(\"File not exists\",end=\"** \")\n",
    "        if (k%100==0):            \n",
    "            print(\"{} files down loaded witing for 10secs..\".format(k))\n",
    "            nowtime=datetime.now()\n",
    "            print(\"last 100files took ..\")\n",
    "            print(nowtime-old)\n",
    "            print(\"From first it took ..\",end='')\n",
    "            print(nowtime-started)\n",
    "            old=nowtime\n",
    "#             time.sleep(10)\n"
   ]
  },
  {
   "cell_type": "code",
   "execution_count": 27,
   "metadata": {},
   "outputs": [
    {
     "name": "stdout",
     "output_type": "stream",
     "text": [
      "100 files down loaded witing for 10secs..\n",
      "last 100files took ..\n",
      "0:12:44.256841\n",
      "From first it took ..0:12:44.256841\n"
     ]
    }
   ],
   "source": [
    "1001%100\n",
    "print(\"{} files down loaded witing for 10secs..\".format(k))\n",
    "nowtime=datetime.now()\n",
    "print(\"last 100files took ..\")\n",
    "print(nowtime-old)\n",
    "print(\"From first it took ..\",end='')\n",
    "print(datetime.now()-old)"
   ]
  },
  {
   "cell_type": "code",
   "execution_count": 2,
   "metadata": {},
   "outputs": [
    {
     "data": {
      "text/plain": [
       "736735"
      ]
     },
     "execution_count": 2,
     "metadata": {},
     "output_type": "execute_result"
    }
   ],
   "source": [
    "from datetime import date, datetime\n",
    "import time\n",
    "old=datetime.now()\n",
    "# time.sleep(3)\n",
    "old.toordinal()\n",
    "\n"
   ]
  }
 ],
 "metadata": {
  "kernelspec": {
   "display_name": "Python 3",
   "language": "python",
   "name": "python3"
  },
  "language_info": {
   "codemirror_mode": {
    "name": "ipython",
    "version": 3
   },
   "file_extension": ".py",
   "mimetype": "text/x-python",
   "name": "python",
   "nbconvert_exporter": "python",
   "pygments_lexer": "ipython3",
   "version": "3.6.1"
  }
 },
 "nbformat": 4,
 "nbformat_minor": 2
}
