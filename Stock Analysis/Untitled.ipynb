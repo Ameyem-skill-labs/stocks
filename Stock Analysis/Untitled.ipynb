{
 "cells": [
  {
   "cell_type": "code",
   "execution_count": 35,
   "metadata": {},
   "outputs": [
    {
     "name": "stdout",
     "output_type": "stream",
     "text": [
      "2018-02-15 10:44:05.068984\n",
      "399996\n",
      "0:00:00.016042\n"
     ]
    }
   ],
   "source": [
    "import datetime as dt\n",
    "dtthen=dt.datetime.now()\n",
    "print(dtthen)\n",
    "a=0\n",
    "for i in range(1,100000):\n",
    "    a +=2**2\n",
    "print(a)\n",
    "print(dt.datetime.now()-dtthen)"
   ]
  }
 ],
 "metadata": {
  "kernelspec": {
   "display_name": "Python 3",
   "language": "python",
   "name": "python3"
  },
  "language_info": {
   "codemirror_mode": {
    "name": "ipython",
    "version": 3
   },
   "file_extension": ".py",
   "mimetype": "text/x-python",
   "name": "python",
   "nbconvert_exporter": "python",
   "pygments_lexer": "ipython3",
   "version": "3.6.1"
  }
 },
 "nbformat": 4,
 "nbformat_minor": 2
}
