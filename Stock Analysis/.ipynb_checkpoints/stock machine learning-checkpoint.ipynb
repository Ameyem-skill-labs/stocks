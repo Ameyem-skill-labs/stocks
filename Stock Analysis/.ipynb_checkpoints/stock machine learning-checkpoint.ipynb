{
 "cells": [
  {
   "cell_type": "code",
   "execution_count": 1,
   "metadata": {
    "collapsed": true
   },
   "outputs": [],
   "source": [
    "import numpy as np\n",
    "import pandas as pd\n",
    "\n",
    "from sklearn.model_selection import train_test_split\n",
    "from sklearn.linear_model import LinearRegression\n",
    "from sklearn.neighbors import KNeighborsRegressor\n",
    "from datetime import datetime\n",
    "%matplotlib inline\n",
    "import matplotlib.pyplot as plt\n",
    "\n",
    "\n",
    "\n",
    "\"\"\"\n",
    "Preparation of data \n",
    "Here the stock data of perticular day is being prepared. \n",
    "What were the numbers before few days and what are the moving averate numbers and the total traded value etc.  \n",
    "In next step, assign future day values for the y to be predicted. \n",
    "Before final use the data needs to be truncated to avoid nan values in MA200 etc  and the future days also. \n",
    "Future days whatever the days you skipped needs to be kept  outside before training and testing. \n",
    "You can get output for them once you fully satisfied.\n",
    "\"\"\"\n",
    "\n",
    "def getMAs(subDB,masamplings,ColNameOn):\n",
    "    for i in masamplings:\n",
    "        colname='MA'+str(i)\n",
    "        subDB[colname]=subDB[ColNameOn].rolling(window=i).mean()\n",
    "    return subDB\n",
    "\n",
    "\n",
    "def prepareDataWithLast(subDB,masamplings,nOfDays,ColNamesOn):    \n",
    "    subDB=getMAs(subDB,masamplings,ColNamesOn[0])\n",
    "    dataDB=subDB.copy()\n",
    "    dataDB=dataDB.drop(dataDB.index[0:nOfDays])\n",
    "    for i in range(0,nOfDays):\n",
    "        for cn in ColNamesOn:\n",
    "            dataDB[cn+str(nOfDays-i)+'DaysBack']=subDB[cn][i:-(nOfDays-i)].tolist()        \n",
    "    return dataDB\n",
    "\n",
    "def predictionScore(nOfDays,daysOfAdvPred):\n",
    "    masamplings=[5,10,20,30,50,75,100,150,200]\n",
    "    # nOfDays=5\n",
    "    ColNamesOn=[\"CLOSE\",\"TOTTRDQTY\"] # [primary , secondary]\n",
    "    myDataDB=prepareDataWithLast(subDB, masamplings,nOfDays,ColNamesOn)\n",
    "    # len(myDataDB)\n",
    "    \"\"\"\n",
    "    Drop data from either ends\n",
    "    Need to drop the rows upto where MA200 starts having actual value.\n",
    "    And Drop future days where you dont have the value. Put in X and y\n",
    "    \"\"\"\n",
    "    # daysOfAdvPred=10\n",
    "    y_d = myDataDB[[\"TIMESTAMP\",ColNamesOn[0]]][daysOfAdvPred:]\n",
    "    X_d=myDataDB.drop(myDataDB.index[-daysOfAdvPred:])\n",
    "    Req_d=myDataDB.drop(myDataDB.index[:-daysOfAdvPred])\n",
    "    if(nOfDays<masamplings[-1]):\n",
    "        X=X_d.drop(X_d.index[0:masamplings[-1]-nOfDays-1])\n",
    "        y=y_d.drop(y_d.index[0:masamplings[-1]-nOfDays-1])\n",
    "    else:\n",
    "        X=X_d\n",
    "        y=y_d\n",
    "    X=X.drop('TIMESTAMP',axis=1)\n",
    "    y=y.drop('TIMESTAMP',axis=1)\n",
    "    R=Req_d.drop('TIMESTAMP',axis=1)\n",
    "    #Training and prediction\n",
    "    X_train, X_test, y_train, y_test = train_test_split(X, y, test_size=0.05, random_state=42)\n",
    "    regressor = LinearRegression()\n",
    "    # regressor = KNeighborsRegressor(n_neighbors=1)\n",
    "    # kneighbor_regression.fit(X_train, y_train)\n",
    "    regressor.fit(X_train, y_train)\n",
    "    y_pred_test = regressor.predict(X_test)\n",
    "    yR_pred = regressor.predict(R)\n",
    "    yy=100*(y_test-y_pred_test)/y_test\n",
    "    #Score calculation\n",
    "    yR = [x for sublist in yR_pred for x in sublist]\n",
    "#     print(yR)\n",
    "    tstamp=datetime.strptime(subDB['TIMESTAMP'].iloc[-1],'%Y-%m-%d')\n",
    "    # ordinal_time=tstamp.toordinal()+\n",
    "    d = []\n",
    "    for dt in np.array(range(0,len(yR)))+tstamp.toordinal()+1:\n",
    "        d.append( datetime.fromordinal(dt))\n",
    "    yPred=pd.DataFrame({\"TIMESTAMP\":d,ColNamesOn[0]:yR})\n",
    "#     yypow=yy*yy\n",
    "#     print(yPred)\n",
    "    # return (sum(yypow['CLOSE'])- max(yypow['CLOSE']))/len(yypow['CLOSE'])\n",
    "    return yPred\n",
    "\n",
    "def get_cmap(n, name='hsv'):\n",
    "    '''Returns a function that maps each index in 0, 1, ..., n-1 to a distinct \n",
    "    RGB color; the keyword argument name must be a standard mpl colormap name.'''\n",
    "    return plt.cm.get_cmap(name, n)"
   ]
  },
  {
   "cell_type": "code",
   "execution_count": 2,
   "metadata": {
    "collapsed": true
   },
   "outputs": [],
   "source": [
    "abb=pd.read_csv(\"abb.csv\")\n",
    "\n",
    "subDB=abb[['TIMESTAMP','OPEN', 'HIGH', 'LOW', 'CLOSE', 'LAST','TOTTRDQTY']]\n",
    "# subDB[-110:-102]\n",
    "res4init=215;\n",
    "initTest=subDB[-res4init:]\n",
    "subDB=subDB[:-res4init]\n",
    "\n",
    "dataDB=[]"
   ]
  },
  {
   "cell_type": "code",
   "execution_count": null,
   "metadata": {},
   "outputs": [
    {
     "data": {
      "image/png": "[encoded data removed]",
      "text/plain": [
       "<matplotlib.figure.Figure at 0x162dbf5f6a0>"
      ]
     },
     "metadata": {},
     "output_type": "display_data"
    },
    {
     "name": "stdout",
     "output_type": "stream",
     "text": [
      "pausing at 1\n",
      "pausing at 2\n",
      "pausing at 3\n",
      "pausing at 4\n",
      "pausing at 5\n"
     ]
    }
   ],
   "source": [
    "# backdatafor=[5,20,40,80]\n",
    "advDays2pred=[5,15,40,100,150]\n",
    "backdatafor=[10]\n",
    "\n",
    "# advDays2pred=[10]\n",
    "\n",
    "score=[]\n",
    "scoreval=[]\n",
    "past_vals2plot=200\n",
    "fig = plt.figure()\n",
    "ax = fig.add_subplot(111)\n",
    "\n",
    "ax.plot(subDB.CLOSE[-past_vals2plot:])\n",
    "ax.plot(initTest.CLOSE,'g')\n",
    "\n",
    "\n",
    "# ax.set_xlim([0.5, 4.5])\n",
    "# ax.set_ylim([-2, 8])\n",
    "ax.set_title('ABB')\n",
    "ax.set_ylabel('Value')\n",
    "ax.set_xlabel('Date')\n",
    "\n",
    "# plt.text(60, .025, r'$\\mu=100,\\ \\sigma=15$')\n",
    "# plt.axis([40, 160, 0, 0.03])\n",
    "ax.grid(True)\n",
    "\n",
    "i=0\n",
    "cmap = get_cmap(6)\n",
    "plt.show()\n",
    "for nBackDays in backdatafor:\n",
    "    for advDays in advDays2pred:\n",
    "        i +=1\n",
    "        # predscore=int(np.sqrt(predictionScore(nBackDays,advDays)))\n",
    "        yp=predictionScore(nBackDays,advDays)           \n",
    "        indx=np.array(range(0,len(yp)))+subDB.index[-1]        \n",
    "        ax.plot(indx,yp.CLOSE.tolist(),c=cmap(i))\n",
    "#         plt.ion()\n",
    "        plt.show()\n",
    "        plt.pause(2)\n",
    "        print(\"pausing at {}\".format(i))\n",
    "        \n",
    "        # yp\n",
    "while True:\n",
    "    plt.pause(0.05)"
   ]
  },
  {
   "cell_type": "code",
   "execution_count": null,
   "metadata": {
    "collapsed": true
   },
   "outputs": [],
   "source": []
  }
 ],
 "metadata": {
  "kernelspec": {
   "display_name": "Python 3",
   "language": "python",
   "name": "python3"
  },
  "language_info": {
   "codemirror_mode": {
    "name": "ipython",
    "version": 3
   },
   "file_extension": ".py",
   "mimetype": "text/x-python",
   "name": "python",
   "nbconvert_exporter": "python",
   "pygments_lexer": "ipython3",
   "version": "3.6.1"
  }
 },
 "nbformat": 4,
 "nbformat_minor": 2
}
