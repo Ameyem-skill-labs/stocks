{
 "cells": [
  {
   "cell_type": "code",
   "execution_count": 10,
   "metadata": {},
   "outputs": [],
   "source": [
    "import numpy as np\n",
    "import pandas as pd\n",
    "\n",
    "abb=pd.read_csv(\"abb.csv\")"
   ]
  },
  {
   "cell_type": "code",
   "execution_count": 234,
   "metadata": {},
   "outputs": [],
   "source": [
    "subDB=abb[['TIMESTAMP','CLOSE','TOTTRDQTY']]\n",
    "# subDB[-110:-102]\n",
    "dataDB=[]\n",
    "# dataDB[-110:-102]\n",
    "# subDB['CLOSE'].tolist()"
   ]
  },
  {
   "cell_type": "markdown",
   "metadata": {},
   "source": [
    "## Preparation of data\n",
    "Here the stock data of perticular day is being prepared. What were the numbers before few days and what are the moving averate numbers and the total traded value etc. In next step, assign future day values for the y to be predicted. \n",
    "Before final use the data needs to be truncated to avoid nan values in MA200 etc and the future days also. Future days whatever the days you skipped needs to be kept outside before training and testing. You can get output for them once you fully satisfied."
   ]
  },
  {
   "cell_type": "code",
   "execution_count": 250,
   "metadata": {},
   "outputs": [
    {
     "name": "stderr",
     "output_type": "stream",
     "text": [
      "D:\\adiarun\\Anaconda3\\lib\\site-packages\\ipykernel_launcher.py:7: SettingWithCopyWarning: \n",
      "A value is trying to be set on a copy of a slice from a DataFrame.\n",
      "Try using .loc[row_indexer,col_indexer] = value instead\n",
      "\n",
      "See the caveats in the documentation: http://pandas.pydata.org/pandas-docs/stable/indexing.html#indexing-view-versus-copy\n",
      "  import sys\n"
     ]
    },
    {
     "ename": "TypeError",
     "evalue": "list indices must be integers or slices, not str",
     "output_type": "error",
     "traceback": [
      "\u001b[1;31m---------------------------------------------------------------------------\u001b[0m",
      "\u001b[1;31mTypeError\u001b[0m                                 Traceback (most recent call last)",
      "\u001b[1;32m<ipython-input-250-1dc63c47c044>\u001b[0m in \u001b[0;36m<module>\u001b[1;34m()\u001b[0m\n\u001b[0;32m     30\u001b[0m \u001b[0mColNameOn\u001b[0m\u001b[1;33m=\u001b[0m\u001b[1;34m\"CLOSE\"\u001b[0m\u001b[1;33m\u001b[0m\u001b[0m\n\u001b[0;32m     31\u001b[0m \u001b[0mmyDataDB\u001b[0m\u001b[1;33m=\u001b[0m\u001b[0mprepareDataWithLast\u001b[0m\u001b[1;33m(\u001b[0m\u001b[0msubDB\u001b[0m\u001b[1;33m,\u001b[0m \u001b[0mmasamplings\u001b[0m\u001b[1;33m,\u001b[0m\u001b[0mnOfDays\u001b[0m\u001b[1;33m,\u001b[0m\u001b[0mColNameOn\u001b[0m\u001b[1;33m)\u001b[0m\u001b[1;33m\u001b[0m\u001b[0m\n\u001b[1;32m---> 32\u001b[1;33m \u001b[0mextraDataDB\u001b[0m\u001b[1;33m=\u001b[0m\u001b[0mbackDateExtraProps\u001b[0m\u001b[1;33m(\u001b[0m\u001b[0msubDB\u001b[0m\u001b[1;33m,\u001b[0m\u001b[0mnOfDays\u001b[0m\u001b[1;33m,\u001b[0m\u001b[1;34m\"TOTTRDQTY\"\u001b[0m\u001b[1;33m)\u001b[0m\u001b[1;33m\u001b[0m\u001b[0m\n\u001b[0m\u001b[0;32m     33\u001b[0m \u001b[0mprint\u001b[0m\u001b[1;33m(\u001b[0m\u001b[0mlen\u001b[0m\u001b[1;33m(\u001b[0m\u001b[0mmyDataDB\u001b[0m\u001b[1;33m)\u001b[0m\u001b[1;33m,\u001b[0m\u001b[0mlen\u001b[0m\u001b[1;33m(\u001b[0m\u001b[0mextraDataDB\u001b[0m\u001b[1;33m)\u001b[0m\u001b[1;33m)\u001b[0m\u001b[1;33m\u001b[0m\u001b[0m\n",
      "\u001b[1;32m<ipython-input-250-1dc63c47c044>\u001b[0m in \u001b[0;36mbackDateExtraProps\u001b[1;34m(subDB, nOfDays, ColNameOn)\u001b[0m\n\u001b[0;32m     14\u001b[0m \u001b[1;31m#     dataDB=pd.DataFrame()\u001b[0m\u001b[1;33m\u001b[0m\u001b[1;33m\u001b[0m\u001b[0m\n\u001b[0;32m     15\u001b[0m     \u001b[1;32mfor\u001b[0m \u001b[0mi\u001b[0m \u001b[1;32min\u001b[0m \u001b[0mrange\u001b[0m\u001b[1;33m(\u001b[0m\u001b[1;36m0\u001b[0m\u001b[1;33m,\u001b[0m\u001b[0mnOfDays\u001b[0m\u001b[1;33m)\u001b[0m\u001b[1;33m:\u001b[0m\u001b[1;33m\u001b[0m\u001b[0m\n\u001b[1;32m---> 16\u001b[1;33m         \u001b[0mdataDB\u001b[0m\u001b[1;33m[\u001b[0m\u001b[0mColNameOn\u001b[0m\u001b[1;33m+\u001b[0m\u001b[0mstr\u001b[0m\u001b[1;33m(\u001b[0m\u001b[0mnOfDays\u001b[0m\u001b[1;33m-\u001b[0m\u001b[0mi\u001b[0m\u001b[1;33m)\u001b[0m\u001b[1;33m+\u001b[0m\u001b[1;34m'DaysBack'\u001b[0m\u001b[1;33m]\u001b[0m\u001b[1;33m=\u001b[0m\u001b[0msubDB\u001b[0m\u001b[1;33m[\u001b[0m\u001b[0mColNameOn\u001b[0m\u001b[1;33m]\u001b[0m\u001b[1;33m[\u001b[0m\u001b[0mi\u001b[0m\u001b[1;33m:\u001b[0m\u001b[1;33m-\u001b[0m\u001b[1;33m(\u001b[0m\u001b[0mnOfDays\u001b[0m\u001b[1;33m-\u001b[0m\u001b[0mi\u001b[0m\u001b[1;33m)\u001b[0m\u001b[1;33m]\u001b[0m\u001b[1;33m.\u001b[0m\u001b[0mtolist\u001b[0m\u001b[1;33m(\u001b[0m\u001b[1;33m)\u001b[0m\u001b[1;33m\u001b[0m\u001b[0m\n\u001b[0m\u001b[0;32m     17\u001b[0m     \u001b[1;32mreturn\u001b[0m \u001b[0mdataDB\u001b[0m\u001b[1;33m\u001b[0m\u001b[0m\n\u001b[0;32m     18\u001b[0m \u001b[1;32mdef\u001b[0m \u001b[0mprepareDataWithLast\u001b[0m\u001b[1;33m(\u001b[0m\u001b[0msubDB\u001b[0m\u001b[1;33m,\u001b[0m\u001b[0mmasamplings\u001b[0m\u001b[1;33m,\u001b[0m\u001b[0mnOfDays\u001b[0m\u001b[1;33m,\u001b[0m\u001b[0mColNameOn\u001b[0m\u001b[1;33m)\u001b[0m\u001b[1;33m:\u001b[0m\u001b[1;33m\u001b[0m\u001b[0m\n",
      "\u001b[1;31mTypeError\u001b[0m: list indices must be integers or slices, not str"
     ]
    }
   ],
   "source": [
    "\n",
    "# abb['MA200'] = abb['CLOSE'].rolling(window=200).mean()\n",
    "\n",
    "def getMAs(subDB,masamplings,ColNameOn):\n",
    "    for i in masamplings:\n",
    "        colname='MA'+str(i)\n",
    "        subDB[colname]=subDB[ColNameOn].rolling(window=i).mean()\n",
    "    return subDB\n",
    "\n",
    "# abb[190:205]\n",
    "def backDateExtraProps(subDB,nOfDays,ColNameOn):\n",
    "#     dataDB=subDB.copy()\n",
    "#     dataDB=dataDB.drop(dataDB.index[0:nOfDays])\n",
    "    dataDB=pd.DataFrame()\n",
    "    for i in range(0,nOfDays):\n",
    "        dataDB[ColNameOn+str(nOfDays-i)+'DaysBack']=subDB[ColNameOn][i:-(nOfDays-i)].tolist()\n",
    "    return dataDB\n",
    "def prepareDataWithLast(subDB,masamplings,nOfDays,ColNameOn):    \n",
    "    subDB=getMAs(subDB,masamplings,ColNameOn)\n",
    "    dataDB=subDB.copy()\n",
    "    dataDB=dataDB.drop(dataDB.index[0:nOfDays])\n",
    "    \n",
    "\n",
    "#     dataDB=pd.DataFrame()\n",
    "    for i in range(0,nOfDays):\n",
    "        dataDB['Days'+str(nOfDays-i)+'Back']=subDB[ColNameOn][i:-(nOfDays-i)].tolist()\n",
    "    return dataDB\n",
    "masamplings=[5,10,20,30,50,75,100]\n",
    "nOfDays=10\n",
    "ColNameOn=\"CLOSE\"\n",
    "myDataDB=prepareDataWithLast(subDB, masamplings,nOfDays,ColNameOn)\n",
    "extraDataDB=backDateExtraProps(subDB,nOfDays,\"TOTTRDQTY\")\n",
    "print(len(myDataDB),len(extraDataDB))\n"
   ]
  },
  {
   "cell_type": "markdown",
   "metadata": {},
   "source": [
    "## Drop data from either ends\n",
    "Need to drop the rows upto where MA200 starts having actual value. And Drop future days where you dont have the value. Put in X and y"
   ]
  },
  {
   "cell_type": "code",
   "execution_count": 238,
   "metadata": {},
   "outputs": [],
   "source": [
    "# myDataDB\n",
    "daysOfAdvPred=10\n",
    "y_d = myDataDB[[\"TIMESTAMP\",\"CLOSE\"]][daysOfAdvPred:]\n",
    "X_d=myDataDB.drop(myDataDB.index[-daysOfAdvPred:])\n",
    "Req_d=myDataDB.drop(myDataDB.index[:-daysOfAdvPred])\n",
    "if(nOfDays<masamplings[-1]):\n",
    "    X=X_d.drop(X_d.index[0:masamplings[-1]-nOfDays-1])\n",
    "    y=y_d.drop(y_d.index[0:masamplings[-1]-nOfDays-1])\n",
    "else:\n",
    "    X=X_d\n",
    "    y=y_d\n",
    "X=X.drop('TIMESTAMP',axis=1)\n",
    "y=y.drop('TIMESTAMP',axis=1)\n",
    "R=Req_d.drop('TIMESTAMP',axis=1)"
   ]
  },
  {
   "cell_type": "code",
   "execution_count": 240,
   "metadata": {},
   "outputs": [
    {
     "name": "stdout",
     "output_type": "stream",
     "text": [
      "5656 5745\n"
     ]
    }
   ],
   "source": [
    "print(len(y),len(X_d))\n",
    "# X\n",
    "# X_d.index[0:masamplings[-1]-nOfDays-1]\n",
    "# masamplings[-1]-nOfDays-1\n",
    "# X_d[X_d.columns[6:15]]\n",
    "# X"
   ]
  },
  {
   "cell_type": "code",
   "execution_count": 241,
   "metadata": {},
   "outputs": [],
   "source": [
    "from sklearn.model_selection import train_test_split\n",
    "\n",
    "X_train, X_test, y_train, y_test = train_test_split(X, y, test_size=0.25, random_state=42)"
   ]
  },
  {
   "cell_type": "code",
   "execution_count": 242,
   "metadata": {},
   "outputs": [
    {
     "data": {
      "text/plain": [
       "5656"
      ]
     },
     "execution_count": 242,
     "metadata": {},
     "output_type": "execute_result"
    }
   ],
   "source": [
    "len(X)\n",
    "# X_d"
   ]
  },
  {
   "cell_type": "code",
   "execution_count": 243,
   "metadata": {},
   "outputs": [
    {
     "data": {
      "text/plain": [
       "LinearRegression(copy_X=True, fit_intercept=True, n_jobs=1, normalize=False)"
      ]
     },
     "execution_count": 243,
     "metadata": {},
     "output_type": "execute_result"
    }
   ],
   "source": [
    "from sklearn.linear_model import LinearRegression\n",
    "\n",
    "regressor = LinearRegression()\n",
    "regressor.fit(X_train, y_train)"
   ]
  },
  {
   "cell_type": "code",
   "execution_count": 244,
   "metadata": {},
   "outputs": [
    {
     "name": "stdout",
     "output_type": "stream",
     "text": [
      "Weight coefficients:  [[ 8.74122874e-01 -1.10490906e-05  1.47727950e-01  1.30657358e-01\n",
      "  -1.73632776e-01  1.47409948e-01 -3.48986064e-01  3.57304381e-01\n",
      "  -6.87327248e-02 -5.22644064e-01  4.96185732e-01 -1.33608801e-02\n",
      "   2.19598467e-02  2.62335315e-02  3.69156003e-02 -6.83934767e-02\n",
      "  -1.88515290e-02 -2.98168694e-02 -1.84212505e-02]]\n",
      "y-axis intercept:  [24.88673061]\n"
     ]
    }
   ],
   "source": [
    "print('Weight coefficients: ', regressor.coef_)\n",
    "print('y-axis intercept: ', regressor.intercept_)\n"
   ]
  },
  {
   "cell_type": "code",
   "execution_count": 125,
   "metadata": {},
   "outputs": [],
   "source": [
    "%matplotlib inline\n",
    "import matplotlib.pyplot as plt\n",
    "# min_pt = X.min() * regressor.coef_[0] + regressor.intercept_\n",
    "# max_pt = X.max() * regressor.coef_[0] + regressor.intercept_\n",
    "\n",
    "# plt.plot([X.min(), X.max()], [min_pt, max_pt])\n",
    "# plt.plot(X_train, y_train, 'o');"
   ]
  },
  {
   "cell_type": "code",
   "execution_count": 246,
   "metadata": {},
   "outputs": [
    {
     "data": {
      "text/plain": [
       "[<matplotlib.lines.Line2D at 0x1c72c9aa128>]"
      ]
     },
     "execution_count": 246,
     "metadata": {},
     "output_type": "execute_result"
    },
    {
     "data": {
      "image/png": "[encoded data removed]",
      "text/plain": [
       "<matplotlib.figure.Figure at 0x1c72c952cf8>"
      ]
     },
     "metadata": {},
     "output_type": "display_data"
    }
   ],
   "source": [
    "# y_pred_train = regressor.predict(X_train)\n",
    "# plt.plot(X_train, y_train, 'o', label=\"data\")\n",
    "# plt.plot(X_train, y_pred_train, 'o', label=\"prediction\")\n",
    "# plt.plot([X.min(), X.max()], [min_pt, max_pt], label='fit')\n",
    "# plt.legend(loc='best')\n",
    "y_pred_test = regressor.predict(X_test)\n",
    "yR_pred = regressor.predict(R)\n",
    "plt.plot(y_pred_test, y_test, 'o', label=\"data\")"
   ]
  },
  {
   "cell_type": "code",
   "execution_count": 248,
   "metadata": {},
   "outputs": [
    {
     "data": {
      "text/plain": [
       "array([[1481.33987148],\n",
       "       [1493.38963896],\n",
       "       [1482.80315571],\n",
       "       [1458.49522454],\n",
       "       [1470.11255829],\n",
       "       [1423.45564384],\n",
       "       [1415.57186167],\n",
       "       [1426.16633222],\n",
       "       [1415.52462274],\n",
       "       [1400.93355579]])"
      ]
     },
     "execution_count": 248,
     "metadata": {},
     "output_type": "execute_result"
    }
   ],
   "source": [
    "yR_pred"
   ]
  },
  {
   "cell_type": "code",
   "execution_count": 212,
   "metadata": {},
   "outputs": [
    {
     "name": "stdout",
     "output_type": "stream",
     "text": [
      "[[  20.69124141]\n",
      " [ 231.39785197]\n",
      " [1519.11243992]\n",
      " ...\n",
      " [ 847.65762914]\n",
      " [1215.20198232]\n",
      " [ 693.68755781]]\n",
      "        CLOSE\n",
      "3374   962.95\n",
      "1459   230.45\n",
      "5666  1340.35\n",
      "4810   826.50\n",
      "5497  1258.00\n",
      "3477   420.25\n",
      "490    570.50\n",
      "293    595.00\n",
      "5577  1459.45\n",
      "4316   810.30\n",
      "1204   453.60\n",
      "1562   293.55\n",
      "631    655.15\n",
      "1192   452.25\n",
      "2531   943.15\n",
      "1774   205.90\n",
      "5587  1440.75\n",
      "5278  1182.75\n",
      "268    642.40\n",
      "2736  1840.50\n",
      "1890   246.85\n",
      "2124   373.90\n",
      "3934   926.00\n",
      "849    431.60\n",
      "2377   661.45\n",
      "837    425.90\n",
      "2924  2740.50\n",
      "3780   809.75\n",
      "1108   287.50\n",
      "5584  1512.10\n",
      "...       ...\n",
      "2981  3439.60\n",
      "2930  2820.10\n",
      "5675  1384.95\n",
      "2238   533.15\n",
      "4319   812.80\n",
      "777    554.40\n",
      "1922   288.95\n",
      "2162   383.55\n",
      "2581  1230.00\n",
      "3184  1217.20\n",
      "3730   738.05\n",
      "2029   278.00\n",
      "2007   250.05\n",
      "3959   851.80\n",
      "3963   835.15\n",
      "1312   250.00\n",
      "4636   494.95\n",
      "1019   501.00\n",
      "5546  1424.00\n",
      "5500  1170.40\n",
      "474    545.20\n",
      "2077   296.30\n",
      "2588  1212.40\n",
      "1907   250.25\n",
      "2810  2848.45\n",
      "5574  1413.50\n",
      "2037   279.10\n",
      "456    757.35\n",
      "4999  1267.85\n",
      "2387   629.25\n",
      "\n",
      "[1377 rows x 1 columns]\n"
     ]
    }
   ],
   "source": [
    "print(y_pred_test)\n",
    "print(y_test)"
   ]
  },
  {
   "cell_type": "code",
   "execution_count": 217,
   "metadata": {},
   "outputs": [
    {
     "data": {
      "text/plain": [
       "[<matplotlib.lines.Line2D at 0x1c7302ecf60>]"
      ]
     },
     "execution_count": 217,
     "metadata": {},
     "output_type": "execute_result"
    },
    {
     "data": {
      "image/png": "[encoded data removed]",
      "text/plain": [
       "<matplotlib.figure.Figure at 0x1c73023e160>"
      ]
     },
     "metadata": {},
     "output_type": "display_data"
    }
   ],
   "source": [
    "regressor.score(X_test, y_test)\n",
    "\n",
    "# plt.hist()\n",
    "plt.plot(y_test.index,y_test,'*')\n",
    "plt.plot(y_test.index,y_pred_test,'o')\n",
    "plt.plot(y_test.index,y_pred_test-y_test,'o')\n",
    "# Fixing random state for reproducibility\n",
    "\n",
    "# yy=100*(y_test-y_pred_test)/y_test\n",
    "# x = yy['CLOSE'].tolist()\n",
    "\n",
    "# # the histogram of the data\n",
    "# n, bins, patches = plt.hist(x, 50, density=True, facecolor='g', alpha=0.75)\n",
    "\n",
    "\n",
    "# plt.xlabel('Smarts')\n",
    "# plt.ylabel('Probability')\n",
    "# plt.title('Histogram of IQ')\n",
    "# # plt.text(60, .025, r'$\\mu=100,\\ \\sigma=15$')\n",
    "# # plt.axis([40, 160, 0, 0.03])\n",
    "# plt.grid(True)\n",
    "# plt.show()"
   ]
  },
  {
   "cell_type": "code",
   "execution_count": 214,
   "metadata": {},
   "outputs": [
    {
     "data": {
      "text/plain": [
       "1141264.6214593097"
      ]
     },
     "execution_count": 214,
     "metadata": {},
     "output_type": "execute_result"
    }
   ],
   "source": [
    "# npx=np.array(x)\n",
    "# squares=npx*npx\n",
    "# squares\n",
    "# # sum(npx*npx)\n",
    "# plt.hist(squares)\n",
    "yypow=yy*yy\n",
    "sum(yypow['CLOSE'])- max(yypow['CLOSE'])"
   ]
  },
  {
   "cell_type": "code",
   "execution_count": null,
   "metadata": {
    "collapsed": true
   },
   "outputs": [],
   "source": []
  }
 ],
 "metadata": {
  "kernelspec": {
   "display_name": "Python 3",
   "language": "python",
   "name": "python3"
  },
  "language_info": {
   "codemirror_mode": {
    "name": "ipython",
    "version": 3
   },
   "file_extension": ".py",
   "mimetype": "text/x-python",
   "name": "python",
   "nbconvert_exporter": "python",
   "pygments_lexer": "ipython3",
   "version": "3.6.1"
  }
 },
 "nbformat": 4,
 "nbformat_minor": 2
}
