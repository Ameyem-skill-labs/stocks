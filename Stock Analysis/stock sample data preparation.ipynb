{
 "cells": [
  {
   "cell_type": "code",
   "execution_count": 10,
   "metadata": {},
   "outputs": [],
   "source": [
    "import numpy as np\n",
    "import pandas as pd\n",
    "\n",
    "abb=pd.read_csv(\"abb.csv\")"
   ]
  },
  {
   "cell_type": "code",
   "execution_count": 234,
   "metadata": {},
   "outputs": [],
   "source": [
    "subDB=abb[['TIMESTAMP','CLOSE','TOTTRDQTY']]\n",
    "# subDB[-110:-102]\n",
    "\n",
    "# dataDB[-110:-102]\n",
    "# subDB['CLOSE'].tolist()"
   ]
  },
  {
   "cell_type": "markdown",
   "metadata": {},
   "source": [
    "## Preparation of data\n",
    "Here the stock data of perticular day is being prepared. What were the numbers before few days and what are the moving averate numbers and the total traded value etc. In next step, assign future day values for the y to be predicted. \n",
    "Before final use the data needs to be truncated to avoid nan values in MA200 etc and the future days also. Future days whatever the days you skipped needs to be kept outside before training and testing. You can get output for them once you fully satisfied."
   ]
  },
  {
   "cell_type": "code",
   "execution_count": 263,
   "metadata": {},
   "outputs": [
    {
     "name": "stderr",
     "output_type": "stream",
     "text": [
      "D:\\adiarun\\Anaconda3\\lib\\site-packages\\ipykernel_launcher.py:7: SettingWithCopyWarning: \n",
      "A value is trying to be set on a copy of a slice from a DataFrame.\n",
      "Try using .loc[row_indexer,col_indexer] = value instead\n",
      "\n",
      "See the caveats in the documentation: http://pandas.pydata.org/pandas-docs/stable/indexing.html#indexing-view-versus-copy\n",
      "  import sys\n"
     ]
    },
    {
     "name": "stdout",
     "output_type": "stream",
     "text": [
      "5760 5760\n"
     ]
    }
   ],
   "source": [
    "dataDB=[]\n",
    "# abb['MA200'] = abb['CLOSE'].rolling(window=200).mean()\n",
    "\n",
    "def getMAs(subDB,masamplings,ColNameOn):\n",
    "    for i in masamplings:\n",
    "        colname='MA'+str(i)\n",
    "        subDB[colname]=subDB[ColNameOn].rolling(window=i).mean()\n",
    "    return subDB\n",
    "\n",
    "# abb[190:205]\n",
    "# def backDateExtraProps(subDB,nOfDays,ColNameOn):\n",
    "# #     dataDB=subDB.copy()\n",
    "# #     dataDB=dataDB.drop(dataDB.index[0:nOfDays])\n",
    "#     dataDB=pd.DataFrame()\n",
    "#     for i in range(0,nOfDays):\n",
    "#         dataDB[ColNameOn+str(nOfDays-i)+'DaysBack']=subDB[ColNameOn][i:-(nOfDays-i)].tolist()\n",
    "#     return dataDB\n",
    "def prepareDataWithLast(subDB,masamplings,nOfDays,ColNamesOn):    \n",
    "    subDB=getMAs(subDB,masamplings,ColNamesOn)\n",
    "    dataDB=subDB.copy()\n",
    "    dataDB=dataDB.drop(dataDB.index[0:nOfDays])\n",
    "    for i in range(0,nOfDays):\n",
    "        for cn in ColNamesOn:\n",
    "            dataDB[cn+str(nOfDays-i)+'DaysBack']=subDB[cn][i:-(nOfDays-i)].tolist()        \n",
    "    return dataDB\n",
    "masamplings=[5,10,20,30,50,75,100]\n",
    "nOfDays=5\n",
    "ColNamesOn=[\"CLOSE\",\"TOTTRDQTY\"] # [primary , secondary]\n",
    "myDataDB=prepareDataWithLast(subDB, masamplings,nOfDays,ColNamesOn)\n",
    "# extraDataDB=backDateExtraProps(subDB,nOfDays,\"TOTTRDQTY\")\n",
    "print(len(myDataDB),len(extraDataDB))\n"
   ]
  },
  {
   "cell_type": "code",
   "execution_count": 264,
   "metadata": {},
   "outputs": [
    {
     "data": {
      "text/html": [
       "<div>\n",
       "<style>\n",
       "    .dataframe thead tr:only-child th {\n",
       "        text-align: right;\n",
       "    }\n",
       "\n",
       "    .dataframe thead th {\n",
       "        text-align: left;\n",
       "    }\n",
       "\n",
       "    .dataframe tbody tr th {\n",
       "        vertical-align: top;\n",
       "    }\n",
       "</style>\n",
       "<table border=\"1\" class=\"dataframe\">\n",
       "  <thead>\n",
       "    <tr style=\"text-align: right;\">\n",
       "      <th></th>\n",
       "      <th>TIMESTAMP</th>\n",
       "      <th>CLOSE</th>\n",
       "      <th>TOTTRDQTY</th>\n",
       "      <th>MA5</th>\n",
       "      <th>MA10</th>\n",
       "      <th>MA20</th>\n",
       "      <th>MA30</th>\n",
       "      <th>MA50</th>\n",
       "      <th>MA75</th>\n",
       "      <th>MA100</th>\n",
       "      <th>CLOSE5DaysBack</th>\n",
       "      <th>TOTTRDQTY5DaysBack</th>\n",
       "      <th>CLOSE4DaysBack</th>\n",
       "      <th>TOTTRDQTY4DaysBack</th>\n",
       "      <th>CLOSE3DaysBack</th>\n",
       "      <th>TOTTRDQTY3DaysBack</th>\n",
       "      <th>CLOSE2DaysBack</th>\n",
       "      <th>TOTTRDQTY2DaysBack</th>\n",
       "      <th>CLOSE1DaysBack</th>\n",
       "      <th>TOTTRDQTY1DaysBack</th>\n",
       "    </tr>\n",
       "  </thead>\n",
       "  <tbody>\n",
       "    <tr>\n",
       "      <th>5</th>\n",
       "      <td>1994-12-08</td>\n",
       "      <td>550.0</td>\n",
       "      <td>150</td>\n",
       "      <td>643.0</td>\n",
       "      <td>NaN</td>\n",
       "      <td>NaN</td>\n",
       "      <td>NaN</td>\n",
       "      <td>NaN</td>\n",
       "      <td>NaN</td>\n",
       "      <td>NaN</td>\n",
       "      <td>715.0</td>\n",
       "      <td>100</td>\n",
       "      <td>715.0</td>\n",
       "      <td>50</td>\n",
       "      <td>705.0</td>\n",
       "      <td>100</td>\n",
       "      <td>620.0</td>\n",
       "      <td>200</td>\n",
       "      <td>625.0</td>\n",
       "      <td>300</td>\n",
       "    </tr>\n",
       "    <tr>\n",
       "      <th>6</th>\n",
       "      <td>1994-12-12</td>\n",
       "      <td>560.0</td>\n",
       "      <td>50</td>\n",
       "      <td>612.0</td>\n",
       "      <td>NaN</td>\n",
       "      <td>NaN</td>\n",
       "      <td>NaN</td>\n",
       "      <td>NaN</td>\n",
       "      <td>NaN</td>\n",
       "      <td>NaN</td>\n",
       "      <td>715.0</td>\n",
       "      <td>50</td>\n",
       "      <td>705.0</td>\n",
       "      <td>100</td>\n",
       "      <td>620.0</td>\n",
       "      <td>200</td>\n",
       "      <td>625.0</td>\n",
       "      <td>300</td>\n",
       "      <td>550.0</td>\n",
       "      <td>150</td>\n",
       "    </tr>\n",
       "    <tr>\n",
       "      <th>7</th>\n",
       "      <td>1995-01-02</td>\n",
       "      <td>600.0</td>\n",
       "      <td>50</td>\n",
       "      <td>591.0</td>\n",
       "      <td>NaN</td>\n",
       "      <td>NaN</td>\n",
       "      <td>NaN</td>\n",
       "      <td>NaN</td>\n",
       "      <td>NaN</td>\n",
       "      <td>NaN</td>\n",
       "      <td>705.0</td>\n",
       "      <td>100</td>\n",
       "      <td>620.0</td>\n",
       "      <td>200</td>\n",
       "      <td>625.0</td>\n",
       "      <td>300</td>\n",
       "      <td>550.0</td>\n",
       "      <td>150</td>\n",
       "      <td>560.0</td>\n",
       "      <td>50</td>\n",
       "    </tr>\n",
       "    <tr>\n",
       "      <th>8</th>\n",
       "      <td>1995-01-05</td>\n",
       "      <td>590.0</td>\n",
       "      <td>200</td>\n",
       "      <td>585.0</td>\n",
       "      <td>NaN</td>\n",
       "      <td>NaN</td>\n",
       "      <td>NaN</td>\n",
       "      <td>NaN</td>\n",
       "      <td>NaN</td>\n",
       "      <td>NaN</td>\n",
       "      <td>620.0</td>\n",
       "      <td>200</td>\n",
       "      <td>625.0</td>\n",
       "      <td>300</td>\n",
       "      <td>550.0</td>\n",
       "      <td>150</td>\n",
       "      <td>560.0</td>\n",
       "      <td>50</td>\n",
       "      <td>600.0</td>\n",
       "      <td>50</td>\n",
       "    </tr>\n",
       "    <tr>\n",
       "      <th>9</th>\n",
       "      <td>1995-01-06</td>\n",
       "      <td>580.0</td>\n",
       "      <td>200</td>\n",
       "      <td>576.0</td>\n",
       "      <td>626.0</td>\n",
       "      <td>NaN</td>\n",
       "      <td>NaN</td>\n",
       "      <td>NaN</td>\n",
       "      <td>NaN</td>\n",
       "      <td>NaN</td>\n",
       "      <td>625.0</td>\n",
       "      <td>300</td>\n",
       "      <td>550.0</td>\n",
       "      <td>150</td>\n",
       "      <td>560.0</td>\n",
       "      <td>50</td>\n",
       "      <td>600.0</td>\n",
       "      <td>50</td>\n",
       "      <td>590.0</td>\n",
       "      <td>200</td>\n",
       "    </tr>\n",
       "    <tr>\n",
       "      <th>10</th>\n",
       "      <td>1995-01-10</td>\n",
       "      <td>600.0</td>\n",
       "      <td>150</td>\n",
       "      <td>586.0</td>\n",
       "      <td>614.5</td>\n",
       "      <td>NaN</td>\n",
       "      <td>NaN</td>\n",
       "      <td>NaN</td>\n",
       "      <td>NaN</td>\n",
       "      <td>NaN</td>\n",
       "      <td>550.0</td>\n",
       "      <td>150</td>\n",
       "      <td>560.0</td>\n",
       "      <td>50</td>\n",
       "      <td>600.0</td>\n",
       "      <td>50</td>\n",
       "      <td>590.0</td>\n",
       "      <td>200</td>\n",
       "      <td>580.0</td>\n",
       "      <td>200</td>\n",
       "    </tr>\n",
       "    <tr>\n",
       "      <th>11</th>\n",
       "      <td>1995-01-17</td>\n",
       "      <td>595.0</td>\n",
       "      <td>50</td>\n",
       "      <td>593.0</td>\n",
       "      <td>602.5</td>\n",
       "      <td>NaN</td>\n",
       "      <td>NaN</td>\n",
       "      <td>NaN</td>\n",
       "      <td>NaN</td>\n",
       "      <td>NaN</td>\n",
       "      <td>560.0</td>\n",
       "      <td>50</td>\n",
       "      <td>600.0</td>\n",
       "      <td>50</td>\n",
       "      <td>590.0</td>\n",
       "      <td>200</td>\n",
       "      <td>580.0</td>\n",
       "      <td>200</td>\n",
       "      <td>600.0</td>\n",
       "      <td>150</td>\n",
       "    </tr>\n",
       "    <tr>\n",
       "      <th>12</th>\n",
       "      <td>1995-01-18</td>\n",
       "      <td>600.0</td>\n",
       "      <td>100</td>\n",
       "      <td>593.0</td>\n",
       "      <td>592.0</td>\n",
       "      <td>NaN</td>\n",
       "      <td>NaN</td>\n",
       "      <td>NaN</td>\n",
       "      <td>NaN</td>\n",
       "      <td>NaN</td>\n",
       "      <td>600.0</td>\n",
       "      <td>50</td>\n",
       "      <td>590.0</td>\n",
       "      <td>200</td>\n",
       "      <td>580.0</td>\n",
       "      <td>200</td>\n",
       "      <td>600.0</td>\n",
       "      <td>150</td>\n",
       "      <td>595.0</td>\n",
       "      <td>50</td>\n",
       "    </tr>\n",
       "    <tr>\n",
       "      <th>13</th>\n",
       "      <td>1995-01-19</td>\n",
       "      <td>610.0</td>\n",
       "      <td>50</td>\n",
       "      <td>597.0</td>\n",
       "      <td>591.0</td>\n",
       "      <td>NaN</td>\n",
       "      <td>NaN</td>\n",
       "      <td>NaN</td>\n",
       "      <td>NaN</td>\n",
       "      <td>NaN</td>\n",
       "      <td>590.0</td>\n",
       "      <td>200</td>\n",
       "      <td>580.0</td>\n",
       "      <td>200</td>\n",
       "      <td>600.0</td>\n",
       "      <td>150</td>\n",
       "      <td>595.0</td>\n",
       "      <td>50</td>\n",
       "      <td>600.0</td>\n",
       "      <td>100</td>\n",
       "    </tr>\n",
       "    <tr>\n",
       "      <th>14</th>\n",
       "      <td>1995-01-20</td>\n",
       "      <td>605.0</td>\n",
       "      <td>100</td>\n",
       "      <td>602.0</td>\n",
       "      <td>589.0</td>\n",
       "      <td>NaN</td>\n",
       "      <td>NaN</td>\n",
       "      <td>NaN</td>\n",
       "      <td>NaN</td>\n",
       "      <td>NaN</td>\n",
       "      <td>580.0</td>\n",
       "      <td>200</td>\n",
       "      <td>600.0</td>\n",
       "      <td>150</td>\n",
       "      <td>595.0</td>\n",
       "      <td>50</td>\n",
       "      <td>600.0</td>\n",
       "      <td>100</td>\n",
       "      <td>610.0</td>\n",
       "      <td>50</td>\n",
       "    </tr>\n",
       "  </tbody>\n",
       "</table>\n",
       "</div>"
      ],
      "text/plain": [
       "     TIMESTAMP  CLOSE  TOTTRDQTY    MA5   MA10  MA20  MA30  MA50  MA75  MA100  \\\n",
       "5   1994-12-08  550.0        150  643.0    NaN   NaN   NaN   NaN   NaN    NaN   \n",
       "6   1994-12-12  560.0         50  612.0    NaN   NaN   NaN   NaN   NaN    NaN   \n",
       "7   1995-01-02  600.0         50  591.0    NaN   NaN   NaN   NaN   NaN    NaN   \n",
       "8   1995-01-05  590.0        200  585.0    NaN   NaN   NaN   NaN   NaN    NaN   \n",
       "9   1995-01-06  580.0        200  576.0  626.0   NaN   NaN   NaN   NaN    NaN   \n",
       "10  1995-01-10  600.0        150  586.0  614.5   NaN   NaN   NaN   NaN    NaN   \n",
       "11  1995-01-17  595.0         50  593.0  602.5   NaN   NaN   NaN   NaN    NaN   \n",
       "12  1995-01-18  600.0        100  593.0  592.0   NaN   NaN   NaN   NaN    NaN   \n",
       "13  1995-01-19  610.0         50  597.0  591.0   NaN   NaN   NaN   NaN    NaN   \n",
       "14  1995-01-20  605.0        100  602.0  589.0   NaN   NaN   NaN   NaN    NaN   \n",
       "\n",
       "    CLOSE5DaysBack  TOTTRDQTY5DaysBack  CLOSE4DaysBack  TOTTRDQTY4DaysBack  \\\n",
       "5            715.0                 100           715.0                  50   \n",
       "6            715.0                  50           705.0                 100   \n",
       "7            705.0                 100           620.0                 200   \n",
       "8            620.0                 200           625.0                 300   \n",
       "9            625.0                 300           550.0                 150   \n",
       "10           550.0                 150           560.0                  50   \n",
       "11           560.0                  50           600.0                  50   \n",
       "12           600.0                  50           590.0                 200   \n",
       "13           590.0                 200           580.0                 200   \n",
       "14           580.0                 200           600.0                 150   \n",
       "\n",
       "    CLOSE3DaysBack  TOTTRDQTY3DaysBack  CLOSE2DaysBack  TOTTRDQTY2DaysBack  \\\n",
       "5            705.0                 100           620.0                 200   \n",
       "6            620.0                 200           625.0                 300   \n",
       "7            625.0                 300           550.0                 150   \n",
       "8            550.0                 150           560.0                  50   \n",
       "9            560.0                  50           600.0                  50   \n",
       "10           600.0                  50           590.0                 200   \n",
       "11           590.0                 200           580.0                 200   \n",
       "12           580.0                 200           600.0                 150   \n",
       "13           600.0                 150           595.0                  50   \n",
       "14           595.0                  50           600.0                 100   \n",
       "\n",
       "    CLOSE1DaysBack  TOTTRDQTY1DaysBack  \n",
       "5            625.0                 300  \n",
       "6            550.0                 150  \n",
       "7            560.0                  50  \n",
       "8            600.0                  50  \n",
       "9            590.0                 200  \n",
       "10           580.0                 200  \n",
       "11           600.0                 150  \n",
       "12           595.0                  50  \n",
       "13           600.0                 100  \n",
       "14           610.0                  50  "
      ]
     },
     "execution_count": 264,
     "metadata": {},
     "output_type": "execute_result"
    }
   ],
   "source": [
    "myDataDB.head(10)"
   ]
  },
  {
   "cell_type": "code",
   "execution_count": 266,
   "metadata": {},
   "outputs": [],
   "source": [
    "# subDB"
   ]
  },
  {
   "cell_type": "markdown",
   "metadata": {},
   "source": [
    "## Drop data from either ends\n",
    "Need to drop the rows upto where MA200 starts having actual value. And Drop future days where you dont have the value. Put in X and y"
   ]
  },
  {
   "cell_type": "code",
   "execution_count": 267,
   "metadata": {},
   "outputs": [],
   "source": [
    "# myDataDB\n",
    "daysOfAdvPred=10\n",
    "y_d = myDataDB[[\"TIMESTAMP\",\"CLOSE\"]][daysOfAdvPred:]\n",
    "X_d=myDataDB.drop(myDataDB.index[-daysOfAdvPred:])\n",
    "Req_d=myDataDB.drop(myDataDB.index[:-daysOfAdvPred])\n",
    "if(nOfDays<masamplings[-1]):\n",
    "    X=X_d.drop(X_d.index[0:masamplings[-1]-nOfDays-1])\n",
    "    y=y_d.drop(y_d.index[0:masamplings[-1]-nOfDays-1])\n",
    "else:\n",
    "    X=X_d\n",
    "    y=y_d\n",
    "X=X.drop('TIMESTAMP',axis=1)\n",
    "y=y.drop('TIMESTAMP',axis=1)\n",
    "R=Req_d.drop('TIMESTAMP',axis=1)"
   ]
  },
  {
   "cell_type": "code",
   "execution_count": 268,
   "metadata": {},
   "outputs": [
    {
     "name": "stdout",
     "output_type": "stream",
     "text": [
      "5656 5750\n"
     ]
    }
   ],
   "source": [
    "print(len(y),len(X_d))\n",
    "# X\n",
    "# X_d.index[0:masamplings[-1]-nOfDays-1]\n",
    "# masamplings[-1]-nOfDays-1\n",
    "# X_d[X_d.columns[6:15]]\n",
    "# X"
   ]
  },
  {
   "cell_type": "code",
   "execution_count": 269,
   "metadata": {},
   "outputs": [],
   "source": [
    "from sklearn.model_selection import train_test_split\n",
    "\n",
    "X_train, X_test, y_train, y_test = train_test_split(X, y, test_size=0.25, random_state=42)"
   ]
  },
  {
   "cell_type": "code",
   "execution_count": 270,
   "metadata": {},
   "outputs": [
    {
     "data": {
      "text/plain": [
       "5656"
      ]
     },
     "execution_count": 270,
     "metadata": {},
     "output_type": "execute_result"
    }
   ],
   "source": [
    "len(X)\n",
    "# X_d"
   ]
  },
  {
   "cell_type": "code",
   "execution_count": 271,
   "metadata": {},
   "outputs": [
    {
     "data": {
      "text/plain": [
       "LinearRegression(copy_X=True, fit_intercept=True, n_jobs=1, normalize=False)"
      ]
     },
     "execution_count": 271,
     "metadata": {},
     "output_type": "execute_result"
    }
   ],
   "source": [
    "from sklearn.linear_model import LinearRegression\n",
    "\n",
    "regressor = LinearRegression()\n",
    "regressor.fit(X_train, y_train)"
   ]
  },
  {
   "cell_type": "code",
   "execution_count": 272,
   "metadata": {},
   "outputs": [
    {
     "name": "stdout",
     "output_type": "stream",
     "text": [
      "Weight coefficients:  [[ 8.58623264e-01 -5.75016707e-06  1.35417394e-01  3.57205793e-01\n",
      "  -3.49554500e-01  1.97909735e-01 -3.55781574e-01  3.51923892e-01\n",
      "  -6.37172737e-02  2.63696165e-02 -8.38256351e-06 -7.18975288e-02\n",
      "   1.81339253e-06 -4.37449897e-02  1.69509515e-06 -3.23112156e-02\n",
      "  -5.98813112e-06 -3.35825575e-02 -1.64034791e-07]]\n",
      "y-axis intercept:  [24.70187841]\n"
     ]
    }
   ],
   "source": [
    "print('Weight coefficients: ', regressor.coef_)\n",
    "print('y-axis intercept: ', regressor.intercept_)\n"
   ]
  },
  {
   "cell_type": "code",
   "execution_count": 125,
   "metadata": {},
   "outputs": [],
   "source": [
    "%matplotlib inline\n",
    "import matplotlib.pyplot as plt\n",
    "# min_pt = X.min() * regressor.coef_[0] + regressor.intercept_\n",
    "# max_pt = X.max() * regressor.coef_[0] + regressor.intercept_\n",
    "\n",
    "# plt.plot([X.min(), X.max()], [min_pt, max_pt])\n",
    "# plt.plot(X_train, y_train, 'o');"
   ]
  },
  {
   "cell_type": "code",
   "execution_count": 273,
   "metadata": {},
   "outputs": [
    {
     "data": {
      "text/plain": [
       "[<matplotlib.lines.Line2D at 0x1c730300a20>]"
      ]
     },
     "execution_count": 273,
     "metadata": {},
     "output_type": "execute_result"
    },
    {
     "data": {
      "image/png": "[encoded data removed]",
      "text/plain": [
       "<matplotlib.figure.Figure at 0x1c72e567a58>"
      ]
     },
     "metadata": {},
     "output_type": "display_data"
    }
   ],
   "source": [
    "# y_pred_train = regressor.predict(X_train)\n",
    "# plt.plot(X_train, y_train, 'o', label=\"data\")\n",
    "# plt.plot(X_train, y_pred_train, 'o', label=\"prediction\")\n",
    "# plt.plot([X.min(), X.max()], [min_pt, max_pt], label='fit')\n",
    "# plt.legend(loc='best')\n",
    "y_pred_test = regressor.predict(X_test)\n",
    "yR_pred = regressor.predict(R)\n",
    "# plt.plot(y_pred_test, y_test, 'o', label=\"data\")"
   ]
  },
  {
   "cell_type": "code",
   "execution_count": 323,
   "metadata": {},
   "outputs": [],
   "source": [
    "# yR_pred.toarray()\n",
    "yR = [x for sublist in yR_pred for x in sublist]\n"
   ]
  },
  {
   "cell_type": "code",
   "execution_count": 327,
   "metadata": {},
   "outputs": [
    {
     "data": {
      "text/html": [
       "<div>\n",
       "<style>\n",
       "    .dataframe thead tr:only-child th {\n",
       "        text-align: right;\n",
       "    }\n",
       "\n",
       "    .dataframe thead th {\n",
       "        text-align: left;\n",
       "    }\n",
       "\n",
       "    .dataframe tbody tr th {\n",
       "        vertical-align: top;\n",
       "    }\n",
       "</style>\n",
       "<table border=\"1\" class=\"dataframe\">\n",
       "  <thead>\n",
       "    <tr style=\"text-align: right;\">\n",
       "      <th></th>\n",
       "      <th>CLOSE</th>\n",
       "      <th>TIMESTAMP</th>\n",
       "    </tr>\n",
       "  </thead>\n",
       "  <tbody>\n",
       "    <tr>\n",
       "      <th>0</th>\n",
       "      <td>1499.805664</td>\n",
       "      <td>2018-03-14</td>\n",
       "    </tr>\n",
       "    <tr>\n",
       "      <th>1</th>\n",
       "      <td>1501.583187</td>\n",
       "      <td>2018-03-15</td>\n",
       "    </tr>\n",
       "    <tr>\n",
       "      <th>2</th>\n",
       "      <td>1497.165811</td>\n",
       "      <td>2018-03-16</td>\n",
       "    </tr>\n",
       "    <tr>\n",
       "      <th>3</th>\n",
       "      <td>1468.723948</td>\n",
       "      <td>2018-03-17</td>\n",
       "    </tr>\n",
       "    <tr>\n",
       "      <th>4</th>\n",
       "      <td>1457.426617</td>\n",
       "      <td>2018-03-18</td>\n",
       "    </tr>\n",
       "    <tr>\n",
       "      <th>5</th>\n",
       "      <td>1422.646255</td>\n",
       "      <td>2018-03-19</td>\n",
       "    </tr>\n",
       "    <tr>\n",
       "      <th>6</th>\n",
       "      <td>1413.519667</td>\n",
       "      <td>2018-03-20</td>\n",
       "    </tr>\n",
       "    <tr>\n",
       "      <th>7</th>\n",
       "      <td>1423.850575</td>\n",
       "      <td>2018-03-21</td>\n",
       "    </tr>\n",
       "    <tr>\n",
       "      <th>8</th>\n",
       "      <td>1419.951848</td>\n",
       "      <td>2018-03-22</td>\n",
       "    </tr>\n",
       "    <tr>\n",
       "      <th>9</th>\n",
       "      <td>1397.482150</td>\n",
       "      <td>2018-03-23</td>\n",
       "    </tr>\n",
       "  </tbody>\n",
       "</table>\n",
       "</div>"
      ],
      "text/plain": [
       "         CLOSE  TIMESTAMP\n",
       "0  1499.805664 2018-03-14\n",
       "1  1501.583187 2018-03-15\n",
       "2  1497.165811 2018-03-16\n",
       "3  1468.723948 2018-03-17\n",
       "4  1457.426617 2018-03-18\n",
       "5  1422.646255 2018-03-19\n",
       "6  1413.519667 2018-03-20\n",
       "7  1423.850575 2018-03-21\n",
       "8  1419.951848 2018-03-22\n",
       "9  1397.482150 2018-03-23"
      ]
     },
     "execution_count": 327,
     "metadata": {},
     "output_type": "execute_result"
    }
   ],
   "source": [
    "tstamp=datetime.strptime(subDB['TIMESTAMP'].iloc[-1],'%Y-%m-%d')\n",
    "# ordinal_time=tstamp.toordinal()+\n",
    "d = []\n",
    "for i in np.array(range(0,len(yR)))+tstamp.toordinal()+1:\n",
    "    d.append( datetime.fromordinal(i))\n",
    "d\n",
    "\n",
    "yPred=pd.DataFrame(index={\"TIMESTAMP\":d,\"CLOSE\":yR})\n",
    "# yPred\n"
   ]
  },
  {
   "cell_type": "code",
   "execution_count": 284,
   "metadata": {},
   "outputs": [
    {
     "data": {
      "text/plain": [
       "datetime.datetime(2018, 3, 14, 15, 19, 59, 930292)"
      ]
     },
     "execution_count": 284,
     "metadata": {},
     "output_type": "execute_result"
    }
   ],
   "source": [
    "from datetime import datetime\n",
    "datetime.now()"
   ]
  },
  {
   "cell_type": "code",
   "execution_count": 341,
   "metadata": {},
   "outputs": [
    {
     "data": {
      "text/plain": [
       "[1499.8056639794781,\n",
       " 1501.583186770174,\n",
       " 1497.1658108967204,\n",
       " 1468.7239481336724,\n",
       " 1457.4266167644591,\n",
       " 1422.6462551171685,\n",
       " 1413.519666521579,\n",
       " 1423.850575388375,\n",
       " 1419.951848300113,\n",
       " 1397.4821497388339]"
      ]
     },
     "execution_count": 341,
     "metadata": {},
     "output_type": "execute_result"
    }
   ],
   "source": [
    "yR"
   ]
  },
  {
   "cell_type": "code",
   "execution_count": 346,
   "metadata": {},
   "outputs": [
    {
     "data": {
      "image/png": "[encoded data removed]",
      "text/plain": [
       "<matplotlib.figure.Figure at 0x1c75292bb00>"
      ]
     },
     "metadata": {},
     "output_type": "display_data"
    }
   ],
   "source": [
    "# print(y_pred_test)\n",
    "# print(y_test)\n",
    "past_vals2plot=100\n",
    "indx=np.array(range(0,len(yR)))+y_d.index[-1]\n",
    "plt.plot(y_d.CLOSE[-past_vals2plot:])\n",
    "plt.plot(indx,yPred.CLOSE.tolist(),'r')\n",
    "\n",
    "\n",
    "plt.xlabel('Date')\n",
    "plt.ylabel('Value')\n",
    "plt.title('ABB')\n",
    "# plt.text(60, .025, r'$\\mu=100,\\ \\sigma=15$')\n",
    "# plt.axis([40, 160, 0, 0.03])\n",
    "plt.grid(True)\n",
    "plt.show()"
   ]
  },
  {
   "cell_type": "code",
   "execution_count": 343,
   "metadata": {},
   "outputs": [
    {
     "data": {
      "text/plain": [
       "array([5764, 5765, 5766, 5767, 5768, 5769, 5770, 5771, 5772, 5773])"
      ]
     },
     "execution_count": 343,
     "metadata": {},
     "output_type": "execute_result"
    }
   ],
   "source": [
    "\n",
    "indx"
   ]
  },
  {
   "cell_type": "code",
   "execution_count": 276,
   "metadata": {},
   "outputs": [
    {
     "data": {
      "text/plain": [
       "[<matplotlib.lines.Line2D at 0x1c730250be0>]"
      ]
     },
     "execution_count": 276,
     "metadata": {},
     "output_type": "execute_result"
    },
    {
     "data": {
      "image/png": "[encoded data removed]",
      "text/plain": [
       "<matplotlib.figure.Figure at 0x1c7302ec7f0>"
      ]
     },
     "metadata": {},
     "output_type": "display_data"
    }
   ],
   "source": [
    "regressor.score(X_test, y_test)\n",
    "\n",
    "# plt.hist()\n",
    "plt.plot(y_test.index,y_test,'*')\n",
    "plt.plot(y_test.index,y_pred_test,'o')\n",
    "plt.plot(y_test.index,y_pred_test-y_test,'o')\n",
    "# Fixing random state for reproducibility\n",
    "\n",
    "# yy=100*(y_test-y_pred_test)/y_test\n",
    "# x = yy['CLOSE'].tolist()\n",
    "\n",
    "# # the histogram of the data\n",
    "# n, bins, patches = plt.hist(x, 50, density=True, facecolor='g', alpha=0.75)\n",
    "\n",
    "\n",
    "# plt.xlabel('Smarts')\n",
    "# plt.ylabel('Probability')\n",
    "# plt.title('Histogram of IQ')\n",
    "# # plt.text(60, .025, r'$\\mu=100,\\ \\sigma=15$')\n",
    "# # plt.axis([40, 160, 0, 0.03])\n",
    "# plt.grid(True)\n",
    "# plt.show()"
   ]
  },
  {
   "cell_type": "code",
   "execution_count": 277,
   "metadata": {},
   "outputs": [
    {
     "data": {
      "text/plain": [
       "1141264.6214593097"
      ]
     },
     "execution_count": 277,
     "metadata": {},
     "output_type": "execute_result"
    }
   ],
   "source": [
    "# npx=np.array(x)\n",
    "# squares=npx*npx\n",
    "# squares\n",
    "# # sum(npx*npx)\n",
    "# plt.hist(squares)\n",
    "yypow=yy*yy\n",
    "sum(yypow['CLOSE'])- max(yypow['CLOSE'])"
   ]
  },
  {
   "cell_type": "code",
   "execution_count": null,
   "metadata": {
    "collapsed": true
   },
   "outputs": [],
   "source": []
  }
 ],
 "metadata": {
  "kernelspec": {
   "display_name": "Python 3",
   "language": "python",
   "name": "python3"
  },
  "language_info": {
   "codemirror_mode": {
    "name": "ipython",
    "version": 3
   },
   "file_extension": ".py",
   "mimetype": "text/x-python",
   "name": "python",
   "nbconvert_exporter": "python",
   "pygments_lexer": "ipython3",
   "version": "3.6.1"
  }
 },
 "nbformat": 4,
 "nbformat_minor": 2
}
