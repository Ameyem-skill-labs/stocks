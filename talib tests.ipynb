{
 "cells": [
  {
   "cell_type": "code",
   "execution_count": 14,
   "metadata": {
    "collapsed": true
   },
   "outputs": [],
   "source": [
    "# import pandas.io.data as web\n",
    "import pandas as pd\n",
    "import numpy as np\n",
    "import talib as ta\n",
    "import matplotlib.pyplot as plt\n",
    "from matplotlib.dates import date2num\n",
    "from mpl_finance import candlestick_ohlc as candlestick\n",
    "\n",
    "# Download sample data\n",
    "# spy = web.get_data_yahoo('SPY', '2010-01-01')\n",
    "\n",
    "spy=pd.read_csv(r'D:\\SoftwareWebApps\\Python\\python_wb\\Stocks\\pandas_talib\\data\\AAPL_20140101_20141201.csv')\n",
    "# Data for matplotlib finance plot\n",
    "spy_ochl = np.array(pd.DataFrame({'0':spy.Date,\n",
    "                                  '1':spy.Open,\n",
    "                                  '2':spy.Close,\n",
    "                                  '3':spy.High,\n",
    "                                  '4':spy.Low}))"
   ]
  },
  {
   "cell_type": "code",
   "execution_count": 15,
   "metadata": {
    "collapsed": true
   },
   "outputs": [],
   "source": [
    "import pandas as pd\n",
    "analysis = pd.DataFrame(index = spy.index)\n",
    "analysis['SAR'] = ta.SAR(spy.High,spy.Low, acceleration=0.05, maximum=0.2)\n",
    "analysis['Current'] = spy.Close\n",
    "\n",
    "# Record signals\n",
    "analysis['signal_bull'] = np.where((analysis.Current > analysis.SAR) &\n",
    "                                   (analysis.Current.shift(1) < analysis.SAR.shift(1)) , 1, 0)\n",
    "\n",
    "analysis['signal_bear'] = np.where((analysis.Current < analysis.SAR) &\n",
    "                                   (analysis.Current.shift(1) > analysis.SAR.shift(1)) , 1, 0)"
   ]
  },
  {
   "cell_type": "code",
   "execution_count": 16,
   "metadata": {},
   "outputs": [
    {
     "ename": "ValueError",
     "evalue": "not enough values to unpack (expected 5, got 4)",
     "output_type": "error",
     "traceback": [
      "\u001b[1;31m---------------------------------------------------------------------------\u001b[0m",
      "\u001b[1;31mValueError\u001b[0m                                Traceback (most recent call last)",
      "\u001b[1;32m<ipython-input-16-d80413667926>\u001b[0m in \u001b[0;36m<module>\u001b[1;34m()\u001b[0m\n\u001b[0;32m      5\u001b[0m \u001b[0max\u001b[0m\u001b[1;33m.\u001b[0m\u001b[0mset_ylabel\u001b[0m\u001b[1;33m(\u001b[0m\u001b[1;34m'SP500'\u001b[0m\u001b[1;33m,\u001b[0m \u001b[0msize\u001b[0m\u001b[1;33m=\u001b[0m\u001b[1;36m20\u001b[0m\u001b[1;33m)\u001b[0m\u001b[1;33m\u001b[0m\u001b[0m\n\u001b[0;32m      6\u001b[0m \u001b[1;31m# Plot candles\u001b[0m\u001b[1;33m\u001b[0m\u001b[1;33m\u001b[0m\u001b[0m\n\u001b[1;32m----> 7\u001b[1;33m \u001b[0mcandlestick\u001b[0m\u001b[1;33m(\u001b[0m\u001b[0max\u001b[0m\u001b[1;33m,\u001b[0m \u001b[0mspy_ochl\u001b[0m\u001b[1;33m,\u001b[0m \u001b[0mwidth\u001b[0m\u001b[1;33m=\u001b[0m\u001b[1;36m0.5\u001b[0m\u001b[1;33m,\u001b[0m \u001b[0mcolorup\u001b[0m\u001b[1;33m=\u001b[0m\u001b[1;34m'g'\u001b[0m\u001b[1;33m,\u001b[0m \u001b[0mcolordown\u001b[0m\u001b[1;33m=\u001b[0m\u001b[1;34m'r'\u001b[0m\u001b[1;33m,\u001b[0m \u001b[0malpha\u001b[0m\u001b[1;33m=\u001b[0m\u001b[1;36m1\u001b[0m\u001b[1;33m)\u001b[0m\u001b[1;33m\u001b[0m\u001b[0m\n\u001b[0m\u001b[0;32m      8\u001b[0m \u001b[1;31m# Draw Moving Averages\u001b[0m\u001b[1;33m\u001b[0m\u001b[1;33m\u001b[0m\u001b[0m\n\u001b[0;32m      9\u001b[0m \u001b[0manalysis\u001b[0m\u001b[1;33m.\u001b[0m\u001b[0mSAR\u001b[0m\u001b[1;33m.\u001b[0m\u001b[0mplot\u001b[0m\u001b[1;33m(\u001b[0m\u001b[0mc\u001b[0m\u001b[1;33m=\u001b[0m\u001b[1;34m'r'\u001b[0m\u001b[1;33m)\u001b[0m\u001b[1;33m\u001b[0m\u001b[0m\n",
      "\u001b[1;32mD:\\adiarun\\Anaconda3\\lib\\site-packages\\mpl_finance-0.10.0-py3.6.egg\\mpl_finance.py\u001b[0m in \u001b[0;36mcandlestick_ohlc\u001b[1;34m(ax, quotes, width, colorup, colordown, alpha)\u001b[0m\n\u001b[0;32m    234\u001b[0m     return _candlestick(ax, quotes, width=width, colorup=colorup,\n\u001b[0;32m    235\u001b[0m                         \u001b[0mcolordown\u001b[0m\u001b[1;33m=\u001b[0m\u001b[0mcolordown\u001b[0m\u001b[1;33m,\u001b[0m\u001b[1;33m\u001b[0m\u001b[0m\n\u001b[1;32m--> 236\u001b[1;33m                         alpha=alpha, ochl=False)\n\u001b[0m\u001b[0;32m    237\u001b[0m \u001b[1;33m\u001b[0m\u001b[0m\n\u001b[0;32m    238\u001b[0m \u001b[1;33m\u001b[0m\u001b[0m\n",
      "\u001b[1;32mD:\\adiarun\\Anaconda3\\lib\\site-packages\\mpl_finance-0.10.0-py3.6.egg\\mpl_finance.py\u001b[0m in \u001b[0;36m_candlestick\u001b[1;34m(ax, quotes, width, colorup, colordown, alpha, ochl)\u001b[0m\n\u001b[0;32m    281\u001b[0m             \u001b[0mt\u001b[0m\u001b[1;33m,\u001b[0m \u001b[0mopen\u001b[0m\u001b[1;33m,\u001b[0m \u001b[0mclose\u001b[0m\u001b[1;33m,\u001b[0m \u001b[0mhigh\u001b[0m\u001b[1;33m,\u001b[0m \u001b[0mlow\u001b[0m \u001b[1;33m=\u001b[0m \u001b[0mq\u001b[0m\u001b[1;33m[\u001b[0m\u001b[1;33m:\u001b[0m\u001b[1;36m5\u001b[0m\u001b[1;33m]\u001b[0m\u001b[1;33m\u001b[0m\u001b[0m\n\u001b[0;32m    282\u001b[0m         \u001b[1;32melse\u001b[0m\u001b[1;33m:\u001b[0m\u001b[1;33m\u001b[0m\u001b[0m\n\u001b[1;32m--> 283\u001b[1;33m             \u001b[0mt\u001b[0m\u001b[1;33m,\u001b[0m \u001b[0mopen\u001b[0m\u001b[1;33m,\u001b[0m \u001b[0mhigh\u001b[0m\u001b[1;33m,\u001b[0m \u001b[0mlow\u001b[0m\u001b[1;33m,\u001b[0m \u001b[0mclose\u001b[0m \u001b[1;33m=\u001b[0m \u001b[0mq\u001b[0m\u001b[1;33m[\u001b[0m\u001b[1;33m:\u001b[0m\u001b[1;36m5\u001b[0m\u001b[1;33m]\u001b[0m\u001b[1;33m\u001b[0m\u001b[0m\n\u001b[0m\u001b[0;32m    284\u001b[0m \u001b[1;33m\u001b[0m\u001b[0m\n\u001b[0;32m    285\u001b[0m         \u001b[1;32mif\u001b[0m \u001b[0mclose\u001b[0m \u001b[1;33m>=\u001b[0m \u001b[0mopen\u001b[0m\u001b[1;33m:\u001b[0m\u001b[1;33m\u001b[0m\u001b[0m\n",
      "\u001b[1;31mValueError\u001b[0m: not enough values to unpack (expected 5, got 4)"
     ]
    }
   ],
   "source": [
    "\n",
    "# Prepare plot\n",
    "fig, ax = plt.subplots(1, 1, sharex=True)\n",
    "#ax = plt.figure(figsize=(10, 5))\n",
    "ax.set_ylabel('SP500', size=20)\n",
    "# Plot candles\n",
    "candlestick(ax, spy_ochl, width=0.5, colorup='g', colordown='r', alpha=1)\n",
    "# Draw Moving Averages\n",
    "analysis.SAR.plot(c='r')\n",
    "\n",
    "# Plot entry arrows\n",
    "for i in analysis.index: \n",
    "    if analysis.signal_bull[i]:\n",
    "        plt.arrow(date2num(i), spy.High[i], 0, 2,\n",
    "                  fc=\"b\", ec=\"g\", head_width=5, head_length=2)\n",
    "\n",
    "    if analysis.signal_bear[i]:\n",
    "        plt.arrow(date2num(i), spy.Low[i], 0, -2,\n",
    "                  fc=\"r\", ec=\"r\", head_width=5, head_length=2)\n",
    "\n",
    "\n",
    "# Show the picture!\n",
    "plt.show()"
   ]
  },
  {
   "cell_type": "code",
   "execution_count": null,
   "metadata": {
    "collapsed": true
   },
   "outputs": [],
   "source": []
  },
  {
   "cell_type": "code",
   "execution_count": 13,
   "metadata": {},
   "outputs": [
    {
     "data": {
      "text/plain": [
       "array([['2014-01-02', 555.680008, 553.12999, 557.029945, 552.020004],\n",
       "       ['2014-01-03', 552.8600230000002, 540.9800190000002, 553.699989,\n",
       "        540.430046],\n",
       "       ['2014-01-06', 537.450005, 543.930046, 546.800018, 533.599983],\n",
       "       ...,\n",
       "       ['2014-11-26', 117.940002, 119.0, 119.099998, 117.830002],\n",
       "       ['2014-11-28', 119.269997, 118.93, 119.400002, 118.050003],\n",
       "       ['2014-12-01', 118.809998, 115.07, 119.25, 111.269997]],\n",
       "      dtype=object)"
      ]
     },
     "execution_count": 13,
     "metadata": {},
     "output_type": "execute_result"
    }
   ],
   "source": [
    "spy_ochl"
   ]
  },
  {
   "cell_type": "code",
   "execution_count": 2,
   "metadata": {
    "collapsed": true
   },
   "outputs": [],
   "source": [
    "output = talib.SMA(close)"
   ]
  },
  {
   "cell_type": "code",
   "execution_count": 3,
   "metadata": {
    "collapsed": true
   },
   "outputs": [],
   "source": [
    "from talib import MA_Type\n",
    "\n",
    "upper, middle, lower = talib.BBANDS(close, matype=MA_Type.T3)"
   ]
  },
  {
   "cell_type": "code",
   "execution_count": 4,
   "metadata": {},
   "outputs": [
    {
     "data": {
      "text/plain": [
       "array([        nan,         nan,         nan,         nan,         nan,\n",
       "        0.77827898, -0.22004582,  0.51082707, -0.11175567,  0.01916789,\n",
       "       -0.93778671, -0.02479027, -0.63031198,  0.28952984,  0.06302718,\n",
       "        0.13717043,  0.68995481, -0.05262309, -0.28457773,  0.04281386,\n",
       "        0.21534093, -0.69722062,  0.7334651 , -0.0415351 , -0.37601393,\n",
       "        0.61436593,  0.47637737,  0.10467868, -0.16439252,  0.56084488,\n",
       "       -0.03958384,  0.22100107, -0.65003391,  0.30626302,  0.19521011,\n",
       "       -0.71232238, -0.13758911,  0.26402743, -0.20881058, -0.28811802,\n",
       "       -0.05033115,  0.21259666, -0.46814371,  0.52179882,  0.09673217,\n",
       "        0.52268249, -0.48707254,  0.0863032 , -0.68607092, -0.05184007,\n",
       "        0.19467055,  0.24569849, -0.14566206,  0.51461379, -0.29670438,\n",
       "       -0.66844976,  0.13265793,  0.78245089, -0.11766228, -0.19376524,\n",
       "       -0.07898823, -0.10695999, -0.68413805, -0.1797647 , -0.06294578,\n",
       "        0.04357532,  0.21486328,  0.75603276, -0.22634234,  0.80463692,\n",
       "        0.1411442 , -0.73657697, -0.16025027,  0.79462121,  0.08324006,\n",
       "        0.54712991,  0.01122605, -0.16464906, -0.66245298, -0.42200826,\n",
       "       -0.41317735,  0.22783796,  0.08496392, -0.09749613, -0.16937929,\n",
       "        0.06461638,  0.50505561, -0.45529055,  0.34675785, -0.25620939,\n",
       "       -0.27223184,  0.12953238,  0.28478733,  0.04004101,  0.6513054 ,\n",
       "        0.70722562, -0.05966646,  0.34201474, -0.30354376, -0.7276199 ])"
      ]
     },
     "execution_count": 4,
     "metadata": {},
     "output_type": "execute_result"
    }
   ],
   "source": [
    "output = talib.MOM(close, timeperiod=5)\n",
    "output"
   ]
  }
 ],
 "metadata": {
  "kernelspec": {
   "display_name": "Python 3",
   "language": "python",
   "name": "python3"
  },
  "language_info": {
   "codemirror_mode": {
    "name": "ipython",
    "version": 3
   },
   "file_extension": ".py",
   "mimetype": "text/x-python",
   "name": "python",
   "nbconvert_exporter": "python",
   "pygments_lexer": "ipython3",
   "version": "3.6.1"
  }
 },
 "nbformat": 4,
 "nbformat_minor": 2
}
