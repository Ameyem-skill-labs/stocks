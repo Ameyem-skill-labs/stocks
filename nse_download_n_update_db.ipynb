{
 "cells": [
  {
   "cell_type": "code",
   "execution_count": 10,
   "metadata": {
    "collapsed": true
   },
   "outputs": [],
   "source": [
    "from selenium import webdriver\n",
    "from selenium.webdriver.common.keys import Keys\n",
    "from selenium.webdriver.common.by import By\n",
    "from selenium.webdriver.support.ui import WebDriverWait\n",
    "from selenium.webdriver.support import expected_conditions as EC\n",
    "from selenium.webdriver.support.ui import Select\n",
    "import time\n",
    "# import datetime\n",
    "from datetime import date, datetime\n",
    "from sqlalchemy import create_engine, MetaData # database connection\n",
    "import numpy as np\n",
    "import pandas as pd\n",
    "import datetime as dt\n",
    "from zipfile import ZipFile\n",
    "\n",
    "# DB = {\n",
    "#     'drivername': 'mysql',\n",
    "#     'servername': '192.185.128.28', #dynamic server. Will change \n",
    "#     'port': '3306',\n",
    "#     'username': 'thogativ_ab',\n",
    "#     'password': 'Arun!23',\n",
    "#     'database': 'thogativ_sthali',\n",
    "# #     'driver': 'SQL Server Native Client 11.0',\n",
    "#     'trusted_connection': 'yes',  \n",
    "#     'legacy_schema_aliasing': False\n",
    "# }\n",
    "DB = {\n",
    "    'drivername': 'mysql',\n",
    "    'servername': 'localhost', #dynamic server. Will change \n",
    "    'port': '3306',\n",
    "    'username': 'root',\n",
    "    'password': 'root',\n",
    "    'database': 'stocks',\n",
    "#     'driver': 'SQL Server Native Client 11.0',\n",
    "    'trusted_connection': 'yes',  \n",
    "    'legacy_schema_aliasing': False\n",
    "}\n",
    "\n",
    "db_engine = create_engine(DB['drivername'] + '://' + DB['username'] +':'+ DB['password'] +\n",
    "                       '@'+ DB['servername'] +':'+ DB['port']+ '/' + DB['database']+'?charset=utf8', encoding=\"utf-8\")  \n",
    "# df.read_sql('nse', db_engine, if_exists='append', index=False )\n",
    "def getbhavbydate(datestr):\n",
    "    driver.get(\"https://www.nseindia.com/products/content/equities/equities/archieve_eq.htm\")\n",
    "    report_eleme = Select(driver.find_element_by_id('h_filetype'))\n",
    "    report_eleme.select_by_visible_text('Bhavcopy')\n",
    "    datefield =  driver.find_element_by_id('date')\n",
    "    datefield.send_keys(datestr)\n",
    "    time.sleep(2)\n",
    "    # datefield.perform()\n",
    "    dayfield=driver.find_elements(By.CLASS_NAME, '  ui-datepicker-current-day')\n",
    "    dayfield[0].click()\n",
    "\n",
    "    time.sleep(1)\n",
    "\n",
    "    getdata=driver.find_elements(By.CLASS_NAME, 'getdata-button')\n",
    "\n",
    "    getdata[0].click()\n",
    "    time.sleep(2)\n",
    "    try:\n",
    "        filelink=driver.find_element_by_xpath(\"//table/tbody/tr/td/a\")\n",
    "        filelink.click()\n",
    "        return True\n",
    "    except:\n",
    "        print(\"File doen't exists\")\n",
    "        return False\n",
    "\n",
    "def save2dbbydate(file):\n",
    "#     print(\"File: {}\".format(file))\n",
    "    time.sleep(2)\n",
    "    try:\n",
    "        print(\"File: {}\".format(file))\n",
    "        zip_ref = ZipFile(\"D:/SoftwareWebApps/Python/python_wb/Stocks/Data/NSE/\"+file, 'r')\n",
    "        with zip_ref as my_zip_file:\n",
    "            with my_zip_file.open(my_zip_file.namelist()[0]) as myZip:\n",
    "                df=pd.read_csv(myZip)\n",
    "                if 'Unnamed: 13' in df.columns:\n",
    "                    df=df.drop(['Unnamed: 13'], axis=1)\n",
    "                tstamp=datetime.strptime(df['TIMESTAMP'].iloc[0],'%d-%b-%Y')\n",
    "                df['TIMESTAMP']=tstamp\n",
    "                df.to_sql('nse', db_engine, if_exists='append', index=False )\n",
    "\n",
    "    except:\n",
    "#         print(\"Either file doesnt exist  or Zip file not good for file: {}\".format(file))\n",
    "        save2dbbydate(file)"
   ]
  },
  {
   "cell_type": "code",
   "execution_count": 11,
   "metadata": {},
   "outputs": [],
   "source": [
    "file=\"cm19Feb2018bhav.csv.zip\"\n",
    "zip_ref = ZipFile(\"D:/SoftwareWebApps/Python/python_wb/Stocks/Data/NSE/\"+file, 'r')"
   ]
  },
  {
   "cell_type": "code",
   "execution_count": 12,
   "metadata": {},
   "outputs": [
    {
     "name": "stdout",
     "output_type": "stream",
     "text": [
      "17-02-2018 Sat\n",
      "File doen't exists\n",
      "time took to enter data in db is 0:00:10.800917\n",
      "19-02-2018 Mon\n",
      "File: cm19Feb2018bhav.csv.zip\n",
      "time took to enter data in db is 0:00:08.311669\n",
      "20-02-2018 Tue\n",
      "File: cm20Feb2018bhav.csv.zip\n",
      "time took to enter data in db is 0:00:09.023148\n",
      "21-02-2018 Wed\n",
      "File: cm21Feb2018bhav.csv.zip\n",
      "time took to enter data in db is 0:00:09.020797\n",
      "22-02-2018 Thu\n",
      "File: cm22Feb2018bhav.csv.zip\n",
      "time took to enter data in db is 0:00:07.962184\n",
      "23-02-2018 Fri\n",
      "File: cm23Feb2018bhav.csv.zip\n",
      "time took to enter data in db is 0:00:09.070475\n",
      "24-02-2018 Sat\n",
      "File doen't exists\n",
      "time took to enter data in db is 0:00:05.632847\n",
      "26-02-2018 Mon\n",
      "File: cm26Feb2018bhav.csv.zip\n",
      "time took to enter data in db is 0:00:07.856840\n",
      "27-02-2018 Tue\n",
      "File: cm27Feb2018bhav.csv.zip\n",
      "time took to enter data in db is 0:00:08.013627\n",
      "28-02-2018 Wed\n",
      "File: cm28Feb2018bhav.csv.zip\n",
      "time took to enter data in db is 0:00:23.369009\n",
      "01-03-2018 Thu\n",
      "File: cm01Mar2018bhav.csv.zip\n",
      "time took to enter data in db is 0:00:07.949336\n",
      "02-03-2018 Fri\n",
      "File doen't exists\n",
      "time took to enter data in db is 0:00:05.621714\n",
      "03-03-2018 Sat\n",
      "File doen't exists\n",
      "time took to enter data in db is 0:00:05.612579\n",
      "05-03-2018 Mon\n",
      "File: cm05Mar2018bhav.csv.zip\n",
      "time took to enter data in db is 0:00:07.864055\n",
      "06-03-2018 Tue\n",
      "File: cm06Mar2018bhav.csv.zip\n",
      "time took to enter data in db is 0:00:07.888064\n",
      "07-03-2018 Wed\n",
      "File: cm07Mar2018bhav.csv.zip\n",
      "time took to enter data in db is 0:00:07.902735\n",
      "08-03-2018 Thu\n",
      "File: cm08Mar2018bhav.csv.zip\n",
      "time took to enter data in db is 0:00:07.771184\n",
      "09-03-2018 Fri\n",
      "File: cm09Mar2018bhav.csv.zip\n",
      "time took to enter data in db is 0:00:07.793428\n",
      "10-03-2018 Sat\n",
      "File doen't exists\n",
      "time took to enter data in db is 0:00:05.575699\n",
      "12-03-2018 Mon\n",
      "File: cm12Mar2018bhav.csv.zip\n",
      "time took to enter data in db is 0:00:07.909832\n",
      "13-03-2018 Tue\n",
      "File: cm13Mar2018bhav.csv.zip\n",
      "time took to enter data in db is 0:00:07.876411\n",
      "14-03-2018 Wed\n",
      "File doen't exists\n",
      "time took to enter data in db is 0:00:05.627666\n",
      "0:03:18.982154\n"
     ]
    }
   ],
   "source": [
    "dtthen=dt.datetime.now()\n",
    "stock_data=pd.read_sql_query('SELECT distinct TIMESTAMP FROM nse where 1 ORDER BY TIMESTAMP', db_engine)\n",
    "# stock_data=pd.read_sql_query('SELECT * FROM `nse` WHERE 1', db_engine)\n",
    "\n",
    "chromeOptions = webdriver.ChromeOptions()\n",
    "prefs = {\"download.default_directory\" : \"D:/SoftwareWebApps/Python/python_wb/Stocks/Data/NSE\"}\n",
    "# chromeOptions.add_argument(\"--headless\") \n",
    "chromeOptions.add_experimental_option(\"prefs\",prefs)\n",
    "chromedriver = \"D:/Installations/chromedriver.exe\"\n",
    "driver = webdriver.Chrome(executable_path=chromedriver, chrome_options=chromeOptions)\n",
    "\n",
    "recentdate=datetime.now().toordinal()\n",
    "# olddate=date(2018, 1, 19).toordinal()   #old from 2007, 12, 5 to 2007, 6, 5 done\n",
    "olddate=stock_data['TIMESTAMP'].iloc[-1].toordinal()+1\n",
    "for i in range(olddate,recentdate+1,1): #728110\n",
    "    dtcurrent=dt.datetime.now()\n",
    "    d = date.fromordinal(i)    \n",
    "    if (d.strftime('%a')!='Sun'):\n",
    "        print(d.strftime(\"%d-%m-%Y %a\"))\n",
    "        isfileexist=getbhavbydate(d.strftime(\"%d-%m-%Y\"))\n",
    "#         time.sleep(3)\n",
    "#         d = date.fromordinal(olddate)  \n",
    "        if(isfileexist):\n",
    "            save2dbbydate(d.strftime(\"cm%d%b%Ybhav.csv.zip\"))\n",
    "        print(\"time took to enter data in db is {}\".format(dt.datetime.now()-dtcurrent))\n",
    "print(dt.datetime.now()-dtthen)\n",
    "driver.close()"
   ]
  },
  {
   "cell_type": "code",
   "execution_count": 45,
   "metadata": {},
   "outputs": [
    {
     "data": {
      "text/plain": [
       "'cm19Feb2018bhav.csv.zip'"
      ]
     },
     "execution_count": 45,
     "metadata": {},
     "output_type": "execute_result"
    }
   ],
   "source": [
    "# stock_data=pd.read_sql_query('SELECT distinct TIMESTAMP FROM nse where 1 ORDER BY TIMESTAMP', db_engine)\n",
    "# stock_data.tail(1)\n",
    "date.fromordinal(recentdate).strftime(\"cm%d%b%Ybhav.csv.zip\")"
   ]
  },
  {
   "cell_type": "code",
   "execution_count": 41,
   "metadata": {},
   "outputs": [
    {
     "ename": "AttributeError",
     "evalue": "'int' object has no attribute 'strftime'",
     "output_type": "error",
     "traceback": [
      "\u001b[1;31m---------------------------------------------------------------------------\u001b[0m",
      "\u001b[1;31mAttributeError\u001b[0m                            Traceback (most recent call last)",
      "\u001b[1;32m<ipython-input-41-1bb76fc0dfc0>\u001b[0m in \u001b[0;36m<module>\u001b[1;34m()\u001b[0m\n\u001b[0;32m      1\u001b[0m \u001b[0mstock_data\u001b[0m\u001b[1;33m.\u001b[0m\u001b[0mtail\u001b[0m\u001b[1;33m(\u001b[0m\u001b[1;36m1\u001b[0m\u001b[1;33m)\u001b[0m\u001b[1;33m[\u001b[0m\u001b[1;34m'TIMESTAMP'\u001b[0m\u001b[1;33m]\u001b[0m\u001b[1;33m.\u001b[0m\u001b[0miloc\u001b[0m\u001b[1;33m[\u001b[0m\u001b[1;36m0\u001b[0m\u001b[1;33m]\u001b[0m\u001b[1;33m.\u001b[0m\u001b[0mstrftime\u001b[0m\u001b[1;33m(\u001b[0m\u001b[1;34m\"%d-%m-%Y\"\u001b[0m\u001b[1;33m)\u001b[0m\u001b[1;33m\u001b[0m\u001b[0m\n\u001b[0;32m      2\u001b[0m \u001b[0mstock_data\u001b[0m\u001b[1;33m.\u001b[0m\u001b[0mtail\u001b[0m\u001b[1;33m(\u001b[0m\u001b[1;36m1\u001b[0m\u001b[1;33m)\u001b[0m\u001b[1;33m[\u001b[0m\u001b[1;34m'TIMESTAMP'\u001b[0m\u001b[1;33m]\u001b[0m\u001b[1;33m.\u001b[0m\u001b[0miloc\u001b[0m\u001b[1;33m[\u001b[0m\u001b[1;36m0\u001b[0m\u001b[1;33m]\u001b[0m\u001b[1;33m.\u001b[0m\u001b[0mtoordinal\u001b[0m\u001b[1;33m(\u001b[0m\u001b[1;33m)\u001b[0m\u001b[1;33m\u001b[0m\u001b[0m\n\u001b[1;32m----> 3\u001b[1;33m \u001b[0mstock_data\u001b[0m\u001b[1;33m[\u001b[0m\u001b[1;34m'TIMESTAMP'\u001b[0m\u001b[1;33m]\u001b[0m\u001b[1;33m.\u001b[0m\u001b[0miloc\u001b[0m\u001b[1;33m[\u001b[0m\u001b[1;33m-\u001b[0m\u001b[1;36m1\u001b[0m\u001b[1;33m]\u001b[0m\u001b[1;33m.\u001b[0m\u001b[0mtoordinal\u001b[0m\u001b[1;33m(\u001b[0m\u001b[1;33m)\u001b[0m\u001b[1;33m.\u001b[0m\u001b[0mstrftime\u001b[0m\u001b[1;33m(\u001b[0m\u001b[1;34m\"cm%d%b%Ybhav.csv.zip\"\u001b[0m\u001b[1;33m)\u001b[0m\u001b[1;33m\u001b[0m\u001b[0m\n\u001b[0m",
      "\u001b[1;31mAttributeError\u001b[0m: 'int' object has no attribute 'strftime'"
     ]
    }
   ],
   "source": [
    "stock_data.tail(1)['TIMESTAMP'].iloc[0].strftime(\"%d-%m-%Y\")\n",
    "stock_data.tail(1)['TIMESTAMP'].iloc[0].toordinal()\n",
    "stock_data['TIMESTAMP'].iloc[-1].toordinal()"
   ]
  },
  {
   "cell_type": "code",
   "execution_count": null,
   "metadata": {
    "collapsed": true
   },
   "outputs": [],
   "source": []
  },
  {
   "cell_type": "code",
   "execution_count": 22,
   "metadata": {},
   "outputs": [
    {
     "data": {
      "text/plain": [
       "'cm09Feb2018bhav.csv.zip'"
      ]
     },
     "execution_count": 22,
     "metadata": {},
     "output_type": "execute_result"
    }
   ],
   "source": [
    "\n",
    "\n"
   ]
  },
  {
   "cell_type": "code",
   "execution_count": 32,
   "metadata": {
    "collapsed": true
   },
   "outputs": [],
   "source": []
  }
 ],
 "metadata": {
  "kernelspec": {
   "display_name": "Python 3",
   "language": "python",
   "name": "python3"
  },
  "language_info": {
   "codemirror_mode": {
    "name": "ipython",
    "version": 3
   },
   "file_extension": ".py",
   "mimetype": "text/x-python",
   "name": "python",
   "nbconvert_exporter": "python",
   "pygments_lexer": "ipython3",
   "version": "3.6.1"
  }
 },
 "nbformat": 4,
 "nbformat_minor": 2
}
