{
 "cells": [
  {
   "cell_type": "code",
   "execution_count": 29,
   "metadata": {},
   "outputs": [
    {
     "name": "stdout",
     "output_type": "stream",
     "text": [
      "23-08-2017 Wed| 22-08-2017 Tue| 21-08-2017 Mon| 19-08-2017 Sat| File not exists** 18-08-2017 Fri| 17-08-2017 Thu| 16-08-2017 Wed| 15-08-2017 Tue| File not exists** 14-08-2017 Mon| 12-08-2017 Sat| File not exists** 11-08-2017 Fri| 10-08-2017 Thu| 09-08-2017 Wed| 08-08-2017 Tue| 07-08-2017 Mon| 05-08-2017 Sat| File not exists** 04-08-2017 Fri| 03-08-2017 Thu| 02-08-2017 Wed| 01-08-2017 Tue| 31-07-2017 Mon| 29-07-2017 Sat| File not exists** 28-07-2017 Fri| 27-07-2017 Thu| 26-07-2017 Wed| 25-07-2017 Tue| 24-07-2017 Mon| 22-07-2017 Sat| File not exists** 21-07-2017 Fri| 20-07-2017 Thu| 19-07-2017 Wed| 18-07-2017 Tue| 17-07-2017 Mon| 15-07-2017 Sat| File not exists** 14-07-2017 Fri| 13-07-2017 Thu| 12-07-2017 Wed| 11-07-2017 Tue| 10-07-2017 Mon| 08-07-2017 Sat| File not exists** 07-07-2017 Fri| 06-07-2017 Thu| 05-07-2017 Wed| 04-07-2017 Tue| 03-07-2017 Mon| 01-07-2017 Sat| File not exists** 30-06-2017 Fri| 29-06-2017 Thu| 28-06-2017 Wed| 27-06-2017 Tue| 26-06-2017 Mon| File not exists** 24-06-2017 Sat| File not exists** 23-06-2017 Fri| 22-06-2017 Thu| 21-06-2017 Wed| 20-06-2017 Tue| 19-06-2017 Mon| 17-06-2017 Sat| File not exists** 16-06-2017 Fri| 15-06-2017 Thu| 14-06-2017 Wed| 13-06-2017 Tue| 12-06-2017 Mon| 10-06-2017 Sat| File not exists** 09-06-2017 Fri| 08-06-2017 Thu| 07-06-2017 Wed| 06-06-2017 Tue| 05-06-2017 Mon| 03-06-2017 Sat| File not exists** 02-06-2017 Fri| 01-06-2017 Thu| 31-05-2017 Wed| 30-05-2017 Tue| 29-05-2017 Mon| 27-05-2017 Sat| File not exists** 26-05-2017 Fri| 25-05-2017 Thu| 24-05-2017 Wed| 23-05-2017 Tue| 22-05-2017 Mon| 20-05-2017 Sat| File not exists** 19-05-2017 Fri| 18-05-2017 Thu| 17-05-2017 Wed| 16-05-2017 Tue| 15-05-2017 Mon| 13-05-2017 Sat| File not exists** 12-05-2017 Fri| 11-05-2017 Thu| 10-05-2017 Wed| 09-05-2017 Tue| 08-05-2017 Mon| 06-05-2017 Sat| File not exists** 05-05-2017 Fri| 04-05-2017 Thu| 03-05-2017 Wed| 02-05-2017 Tue| 01-05-2017 Mon| File not exists** 29-04-2017 Sat| File not exists** 28-04-2017 Fri| 27-04-2017 Thu| 26-04-2017 Wed| 25-04-2017 Tue| 24-04-2017 Mon| 22-04-2017 Sat| File not exists** 21-04-2017 Fri| 20-04-2017 Thu| 19-04-2017 Wed| 18-04-2017 Tue| 17-04-2017 Mon| 15-04-2017 Sat| File not exists** 14-04-2017 Fri| File not exists** 13-04-2017 Thu| 12-04-2017 Wed| 11-04-2017 Tue| 10-04-2017 Mon| 08-04-2017 Sat| File not exists** 07-04-2017 Fri| 06-04-2017 Thu| 05-04-2017 Wed| 04-04-2017 Tue| File not exists** 03-04-2017 Mon| 01-04-2017 Sat| File not exists** 31-03-2017 Fri| 30-03-2017 Thu| 100 files down loaded witing for 10secs..\n",
      "last 100files took ..\n",
      "0:03:36.900165\n",
      "From first it took ..0:03:36.900165\n",
      "29-03-2017 Wed| 28-03-2017 Tue| 27-03-2017 Mon| 25-03-2017 Sat| File not exists** 24-03-2017 Fri| 23-03-2017 Thu| 22-03-2017 Wed| 21-03-2017 Tue| 20-03-2017 Mon| 18-03-2017 Sat| File not exists** 17-03-2017 Fri| 16-03-2017 Thu| 15-03-2017 Wed| 14-03-2017 Tue| 13-03-2017 Mon| File not exists** 11-03-2017 Sat| File not exists** 10-03-2017 Fri| 09-03-2017 Thu| 08-03-2017 Wed| 07-03-2017 Tue| 06-03-2017 Mon| 04-03-2017 Sat| File not exists** 03-03-2017 Fri| 02-03-2017 Thu| 01-03-2017 Wed| 28-02-2017 Tue| 27-02-2017 Mon| 25-02-2017 Sat| File not exists** 24-02-2017 Fri| File not exists** 23-02-2017 Thu| 22-02-2017 Wed| 21-02-2017 Tue| 20-02-2017 Mon| 18-02-2017 Sat| File not exists** 17-02-2017 Fri| 16-02-2017 Thu| 15-02-2017 Wed| 14-02-2017 Tue| 13-02-2017 Mon| 11-02-2017 Sat| File not exists** 10-02-2017 Fri| 09-02-2017 Thu| 08-02-2017 Wed| 07-02-2017 Tue| 06-02-2017 Mon| 04-02-2017 Sat| File not exists** 03-02-2017 Fri| 02-02-2017 Thu| 01-02-2017 Wed| 31-01-2017 Tue| 30-01-2017 Mon| 28-01-2017 Sat| File not exists** 27-01-2017 Fri| 26-01-2017 Thu| File not exists** 25-01-2017 Wed| 24-01-2017 Tue| 23-01-2017 Mon| 21-01-2017 Sat| File not exists** 20-01-2017 Fri| 19-01-2017 Thu| 18-01-2017 Wed| 17-01-2017 Tue| 16-01-2017 Mon| 14-01-2017 Sat| File not exists** 13-01-2017 Fri| 12-01-2017 Thu| 11-01-2017 Wed| 10-01-2017 Tue| 09-01-2017 Mon| 07-01-2017 Sat| File not exists** 06-01-2017 Fri| 05-01-2017 Thu| 04-01-2017 Wed| 03-01-2017 Tue| 02-01-2017 Mon| 31-12-2016 Sat| File not exists** 30-12-2016 Fri| 29-12-2016 Thu| 28-12-2016 Wed| 27-12-2016 Tue| 26-12-2016 Mon| 24-12-2016 Sat| File not exists** 23-12-2016 Fri| 22-12-2016 Thu| 21-12-2016 Wed| 20-12-2016 Tue| 19-12-2016 Mon| 17-12-2016 Sat| File not exists** 16-12-2016 Fri| 15-12-2016 Thu| 14-12-2016 Wed| 13-12-2016 Tue| 12-12-2016 Mon| 10-12-2016 Sat| File not exists** 09-12-2016 Fri| 08-12-2016 Thu| 07-12-2016 Wed| 06-12-2016 Tue| 05-12-2016 Mon| 03-12-2016 Sat| File not exists** 02-12-2016 Fri| 01-12-2016 Thu| 30-11-2016 Wed| 29-11-2016 Tue| 28-11-2016 Mon| 26-11-2016 Sat| File not exists** 25-11-2016 Fri| 24-11-2016 Thu| 23-11-2016 Wed| 22-11-2016 Tue| 21-11-2016 Mon| 19-11-2016 Sat| File not exists** 18-11-2016 Fri| 17-11-2016 Thu| 16-11-2016 Wed| 15-11-2016 Tue| 14-11-2016 Mon| File not exists** 12-11-2016 Sat| File not exists** 11-11-2016 Fri| 10-11-2016 Thu| 09-11-2016 Wed| 08-11-2016 Tue| 07-11-2016 Mon| 05-11-2016 Sat| File not exists** 04-11-2016 Fri| 200 files down loaded witing for 10secs..\n",
      "last 100files took ..\n",
      "0:25:18.808591\n",
      "From first it took ..0:25:18.808591\n",
      "03-11-2016 Thu| 02-11-2016 Wed| 01-11-2016 Tue| 31-10-2016 Mon| File not exists** 29-10-2016 Sat| File not exists** 28-10-2016 Fri| 27-10-2016 Thu| 26-10-2016 Wed| 25-10-2016 Tue| 24-10-2016 Mon| 22-10-2016 Sat| File not exists** 21-10-2016 Fri| 20-10-2016 Thu| 19-10-2016 Wed| 18-10-2016 Tue| 17-10-2016 Mon| 15-10-2016 Sat| File not exists** 14-10-2016 Fri| 13-10-2016 Thu| 12-10-2016 Wed| File not exists** 11-10-2016 Tue| File not exists** 10-10-2016 Mon| 08-10-2016 Sat| File not exists** 07-10-2016 Fri| 06-10-2016 Thu| 05-10-2016 Wed| 04-10-2016 Tue| 03-10-2016 Mon| 01-10-2016 Sat| File not exists** 30-09-2016 Fri| 29-09-2016 Thu| 28-09-2016 Wed| 27-09-2016 Tue| 26-09-2016 Mon| 24-09-2016 Sat| File not exists** 23-09-2016 Fri| 22-09-2016 Thu| 21-09-2016 Wed| 20-09-2016 Tue| 19-09-2016 Mon| 17-09-2016 Sat| File not exists** 16-09-2016 Fri| 15-09-2016 Thu| 14-09-2016 Wed| 13-09-2016 Tue| File not exists** 12-09-2016 Mon| 10-09-2016 Sat| File not exists** 09-09-2016 Fri| 08-09-2016 Thu| 07-09-2016 Wed| 06-09-2016 Tue| 05-09-2016 Mon| File not exists** 03-09-2016 Sat| File not exists** 02-09-2016 Fri| 01-09-2016 Thu| 31-08-2016 Wed| 30-08-2016 Tue| 29-08-2016 Mon| 27-08-2016 Sat| File not exists** 26-08-2016 Fri| 25-08-2016 Thu| 24-08-2016 Wed| 23-08-2016 Tue| 22-08-2016 Mon| 20-08-2016 Sat| File not exists** 19-08-2016 Fri| 18-08-2016 Thu| 17-08-2016 Wed| 16-08-2016 Tue| 15-08-2016 Mon| File not exists** 13-08-2016 Sat| File not exists** 12-08-2016 Fri| 11-08-2016 Thu| 10-08-2016 Wed| 09-08-2016 Tue| 08-08-2016 Mon| 06-08-2016 Sat| File not exists** 05-08-2016 Fri| 04-08-2016 Thu| 03-08-2016 Wed| 02-08-2016 Tue| 01-08-2016 Mon| 30-07-2016 Sat| File not exists** 29-07-2016 Fri| 28-07-2016 Thu| 27-07-2016 Wed| 26-07-2016 Tue| 25-07-2016 Mon| 23-07-2016 Sat| File not exists** 22-07-2016 Fri| 21-07-2016 Thu| 20-07-2016 Wed| 19-07-2016 Tue| 18-07-2016 Mon| 16-07-2016 Sat| File not exists** 15-07-2016 Fri| 14-07-2016 Thu| 13-07-2016 Wed| 12-07-2016 Tue| 11-07-2016 Mon| 09-07-2016 Sat| File not exists** 08-07-2016 Fri| 07-07-2016 Thu| 06-07-2016 Wed| File not exists** 05-07-2016 Tue| 04-07-2016 Mon| 02-07-2016 Sat| File not exists** 01-07-2016 Fri| 30-06-2016 Thu| 29-06-2016 Wed| 28-06-2016 Tue| 27-06-2016 Mon| 25-06-2016 Sat| File not exists** 24-06-2016 Fri| 23-06-2016 Thu| 22-06-2016 Wed| 21-06-2016 Tue| 20-06-2016 Mon| 18-06-2016 Sat| File not exists** 17-06-2016 Fri| 16-06-2016 Thu| 15-06-2016 Wed| 14-06-2016 Tue| 13-06-2016 Mon| 11-06-2016 Sat| File not exists** 10-06-2016 Fri| 09-06-2016 Thu| 08-06-2016 Wed| 300 files down loaded witing for 10secs..\n",
      "last 100files took ..\n",
      "0:01:57.591831\n",
      "From first it took ..0:01:57.591831\n"
     ]
    },
    {
     "name": "stdout",
     "output_type": "stream",
     "text": [
      "07-06-2016 Tue| 06-06-2016 Mon| 04-06-2016 Sat| File not exists** 03-06-2016 Fri| 02-06-2016 Thu| 01-06-2016 Wed| 31-05-2016 Tue| 30-05-2016 Mon| 28-05-2016 Sat| File not exists** 27-05-2016 Fri| 26-05-2016 Thu| 25-05-2016 Wed| 24-05-2016 Tue| 23-05-2016 Mon| 21-05-2016 Sat| File not exists** 20-05-2016 Fri| 19-05-2016 Thu| 18-05-2016 Wed| 17-05-2016 Tue| 16-05-2016 Mon| 14-05-2016 Sat| File not exists** 13-05-2016 Fri| 12-05-2016 Thu| 11-05-2016 Wed| 10-05-2016 Tue| 09-05-2016 Mon| 07-05-2016 Sat| File not exists** 06-05-2016 Fri| 05-05-2016 Thu| 04-05-2016 Wed| 03-05-2016 Tue| 02-05-2016 Mon| 30-04-2016 Sat| File not exists** 29-04-2016 Fri| 28-04-2016 Thu| 27-04-2016 Wed| 26-04-2016 Tue| 25-04-2016 Mon| 23-04-2016 Sat| File not exists** 22-04-2016 Fri| 21-04-2016 Thu| 20-04-2016 Wed| 19-04-2016 Tue| File not exists** 18-04-2016 Mon| 16-04-2016 Sat| File not exists** 15-04-2016 Fri| File not exists** 14-04-2016 Thu| File not exists** 13-04-2016 Wed| 12-04-2016 Tue| 11-04-2016 Mon| 09-04-2016 Sat| File not exists** 08-04-2016 Fri| 07-04-2016 Thu| 06-04-2016 Wed| 05-04-2016 Tue| 04-04-2016 Mon| 02-04-2016 Sat| File not exists** 01-04-2016 Fri| 31-03-2016 Thu| 30-03-2016 Wed| 29-03-2016 Tue| 28-03-2016 Mon| 26-03-2016 Sat| File not exists** 25-03-2016 Fri| File not exists** 24-03-2016 Thu| File not exists** 23-03-2016 Wed| 22-03-2016 Tue| 21-03-2016 Mon| 19-03-2016 Sat| File not exists** 18-03-2016 Fri| 17-03-2016 Thu| 16-03-2016 Wed| 15-03-2016 Tue| 14-03-2016 Mon| 12-03-2016 Sat| File not exists** 11-03-2016 Fri| 10-03-2016 Thu| 09-03-2016 Wed| 08-03-2016 Tue| 07-03-2016 Mon| File not exists** 05-03-2016 Sat| File not exists** 04-03-2016 Fri| 03-03-2016 Thu| 02-03-2016 Wed| 01-03-2016 Tue| 29-02-2016 Mon| 27-02-2016 Sat| File not exists** 26-02-2016 Fri| 25-02-2016 Thu| 24-02-2016 Wed| 23-02-2016 Tue| 22-02-2016 Mon| 20-02-2016 Sat| File not exists** 19-02-2016 Fri| 18-02-2016 Thu| 17-02-2016 Wed| 16-02-2016 Tue| 15-02-2016 Mon| 13-02-2016 Sat| File not exists** 12-02-2016 Fri| 11-02-2016 Thu| 10-02-2016 Wed| 09-02-2016 Tue| 08-02-2016 Mon| 06-02-2016 Sat| File not exists** 05-02-2016 Fri| 04-02-2016 Thu| 03-02-2016 Wed| 02-02-2016 Tue| 01-02-2016 Mon| 30-01-2016 Sat| File not exists** 29-01-2016 Fri| 28-01-2016 Thu| 27-01-2016 Wed| 26-01-2016 Tue| File not exists** 25-01-2016 Mon| 23-01-2016 Sat| File not exists** 22-01-2016 Fri| 21-01-2016 Thu| 20-01-2016 Wed| 19-01-2016 Tue| 18-01-2016 Mon| 16-01-2016 Sat| File not exists** 15-01-2016 Fri| 14-01-2016 Thu| 13-01-2016 Wed| File not exists** 12-01-2016 Tue| 11-01-2016 Mon| 09-01-2016 Sat| File not exists** 08-01-2016 Fri| 400 files down loaded witing for 10secs..\n",
      "last 100files took ..\n",
      "0:02:20.886165\n",
      "From first it took ..0:02:20.886165\n"
     ]
    },
    {
     "ename": "KeyboardInterrupt",
     "evalue": "",
     "output_type": "error",
     "traceback": [
      "\u001b[1;31m---------------------------------------------------------------------------\u001b[0m",
      "\u001b[1;31mKeyboardInterrupt\u001b[0m                         Traceback (most recent call last)",
      "\u001b[1;32m<ipython-input-29-81ecae728cf0>\u001b[0m in \u001b[0;36m<module>\u001b[1;34m()\u001b[0m\n\u001b[0;32m     35\u001b[0m             \u001b[0mprint\u001b[0m\u001b[1;33m(\u001b[0m\u001b[0mdatetime\u001b[0m\u001b[1;33m.\u001b[0m\u001b[0mnow\u001b[0m\u001b[1;33m(\u001b[0m\u001b[1;33m)\u001b[0m\u001b[1;33m-\u001b[0m\u001b[0mold\u001b[0m\u001b[1;33m)\u001b[0m\u001b[1;33m\u001b[0m\u001b[0m\n\u001b[0;32m     36\u001b[0m             \u001b[0mold\u001b[0m\u001b[1;33m=\u001b[0m\u001b[0mnowtime\u001b[0m\u001b[1;33m\u001b[0m\u001b[0m\n\u001b[1;32m---> 37\u001b[1;33m             \u001b[0mtime\u001b[0m\u001b[1;33m.\u001b[0m\u001b[0msleep\u001b[0m\u001b[1;33m(\u001b[0m\u001b[1;36m10\u001b[0m\u001b[1;33m)\u001b[0m\u001b[1;33m\u001b[0m\u001b[0m\n\u001b[0m",
      "\u001b[1;31mKeyboardInterrupt\u001b[0m: "
     ]
    }
   ],
   "source": [
    "# \"http://www.bseindia.com/download/BhavCopy/Equity/EQ220118_CSV.ZIP\"\n",
    "            \n",
    "from io import BytesIO\n",
    "from zipfile import ZipFile\n",
    "import urllib.request\n",
    "from datetime import date, datetime\n",
    "\n",
    "def bsebhavsave(urlstr,folderpath):\n",
    "    url = urllib.request.urlopen(urlstr)\n",
    "    with ZipFile(BytesIO(url.read())) as my_zip_file:\n",
    "            my_zip_file.extractall(folderpath)\n",
    "            \n",
    "recentdate=date(2016, 1, 9).toordinal() #Recent\n",
    "olddate=date(2007, 12, 5).toordinal()   #old from 2007, 12, 5 to 2007, 6, 5 done\n",
    "urlfmt=\"http://www.bseindia.com/download/BhavCopy/Equity/EQ%d%m%y_CSV.ZIP\"\n",
    "k=0\n",
    "started=datetime.now()\n",
    "old=datetime.now()\n",
    "for i in range(recentdate,olddate,-1): #728110 729109,728110\n",
    "    d = date.fromordinal(i)    \n",
    "    if (d.strftime('%a')!='Sun'):\n",
    "        print(d.strftime(\"%d-%m-%Y %a\"),end=\"| \")    \n",
    "        urlstr=d.strftime(urlfmt)\n",
    "        try:\n",
    "            bsebhavsave(urlstr,'./BSE/')\n",
    "            k+=1\n",
    "        except:\n",
    "            print(\"File not exists\",end=\"** \")\n",
    "        if (k%100==0):            \n",
    "            print(\"{} files down loaded witing for 10secs..\".format(k))\n",
    "            nowtime=datetime.now()\n",
    "            print(\"last 100files took ..\")\n",
    "            print(nowtime-old)\n",
    "            print(\"From first it took ..\",end='')\n",
    "            print(nowtime-started)\n",
    "            old=nowtime\n",
    "            time.sleep(10)\n"
   ]
  },
  {
   "cell_type": "code",
   "execution_count": 27,
   "metadata": {},
   "outputs": [
    {
     "name": "stdout",
     "output_type": "stream",
     "text": [
      "100 files down loaded witing for 10secs..\n",
      "last 100files took ..\n",
      "0:12:44.256841\n",
      "From first it took ..0:12:44.256841\n"
     ]
    }
   ],
   "source": [
    "1001%100\n",
    "print(\"{} files down loaded witing for 10secs..\".format(k))\n",
    "nowtime=datetime.now()\n",
    "print(\"last 100files took ..\")\n",
    "print(nowtime-old)\n",
    "print(\"From first it took ..\",end='')\n",
    "print(datetime.now()-old)"
   ]
  },
  {
   "cell_type": "code",
   "execution_count": 18,
   "metadata": {},
   "outputs": [
    {
     "name": "stdout",
     "output_type": "stream",
     "text": [
      "0:00:03.007117\n"
     ]
    }
   ],
   "source": [
    "from datetime import date, datetime\n",
    "import time\n",
    "old=datetime.now()\n",
    "time.sleep(3)\n",
    "\n"
   ]
  }
 ],
 "metadata": {
  "kernelspec": {
   "display_name": "Python 3",
   "language": "python",
   "name": "python3"
  },
  "language_info": {
   "codemirror_mode": {
    "name": "ipython",
    "version": 3
   },
   "file_extension": ".py",
   "mimetype": "text/x-python",
   "name": "python",
   "nbconvert_exporter": "python",
   "pygments_lexer": "ipython3",
   "version": "3.6.1"
  }
 },
 "nbformat": 4,
 "nbformat_minor": 2
}
