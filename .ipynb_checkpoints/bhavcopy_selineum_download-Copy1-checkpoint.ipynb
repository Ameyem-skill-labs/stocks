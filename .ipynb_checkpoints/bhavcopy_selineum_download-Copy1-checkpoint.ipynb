{
 "cells": [
  {
   "cell_type": "code",
   "execution_count": 1,
   "metadata": {
    "collapsed": true
   },
   "outputs": [],
   "source": [
    "from selenium import webdriver\n",
    "from selenium.webdriver.common.keys import Keys\n",
    "from selenium.webdriver.common.by import By\n",
    "from selenium.webdriver.support.ui import WebDriverWait\n",
    "from selenium.webdriver.support import expected_conditions as EC\n",
    "from selenium.webdriver.support.ui import Select\n",
    "import time\n",
    "import datetime\n",
    "from datetime import date\n"
   ]
  },
  {
   "cell_type": "code",
   "execution_count": 34,
   "metadata": {
    "collapsed": true
   },
   "outputs": [],
   "source": [
    "import os\n",
    "import sys\n",
    "\n",
    "from selenium.webdriver import Chrome\n",
    "from selenium.webdriver.chrome import webdriver as chrome_webdriver\n",
    "\n",
    "\n",
    "class DriverBuilder():\n",
    "    def get_driver(self, download_location=None, headless=False):\n",
    "\n",
    "        driver = self._get_chrome_driver(download_location, headless)\n",
    "\n",
    "        driver.set_window_size(700, 350)\n",
    "\n",
    "        return driver\n",
    "\n",
    "    def _get_chrome_driver(self, download_location, headless):\n",
    "        chrome_options = chrome_webdriver.Options()\n",
    "        if download_location:\n",
    "            prefs = {'download.default_directory': download_location,\n",
    "                     'download.prompt_for_download': False,\n",
    "                     'download.directory_upgrade': True,\n",
    "                     'safebrowsing.enabled': False,\n",
    "                     'safebrowsing.disable_download_protection': True}\n",
    "\n",
    "            chrome_options.add_experimental_option('prefs', prefs)\n",
    "\n",
    "        if headless:\n",
    "            chrome_options.add_argument(\"--headless\")\n",
    "\n",
    "#         dir_path = os.path.dirname(os.path.realpath(__file__))\n",
    "        driver_path = \"D:/Installations/chromedriver.exe\"\n",
    "\n",
    "#         if sys.platform.startswith(\"win\"):\n",
    "#             driver_path += \".exe\"\n",
    "\n",
    "        driver = Chrome(executable_path=driver_path, chrome_options=chrome_options)\n",
    "\n",
    "        if headless:\n",
    "            self.enable_download_in_headless_chrome(driver, download_location)\n",
    "\n",
    "        return driver\n",
    "\n",
    "    def enable_download_in_headless_chrome(self, driver, download_dir):\n",
    "        \"\"\"\n",
    "        there is currently a \"feature\" in chrome where\n",
    "        headless does not allow file download: https://bugs.chromium.org/p/chromium/issues/detail?id=696481\n",
    "        This method is a hacky work-around until the official chromedriver support for this.\n",
    "        Requires chrome version 62.0.3196.0 or above.\n",
    "        \"\"\"\n",
    "\n",
    "        # add missing support for chrome \"send_command\"  to selenium webdriver\n",
    "        driver.command_executor._commands[\"send_command\"] = (\"POST\", '/session/$sessionId/chromium/send_command')\n",
    "\n",
    "        params = {'cmd': 'Page.setDownloadBehavior', 'params': {'behavior': 'allow', 'downloadPath': download_dir}}\n",
    "        command_result = driver.execute(\"send_command\", params)\n",
    "        print(\"response from browser:\")\n",
    "        for key in command_result:\n",
    "            print(\"result:\" + key + \":\" + str(command_result[key]))"
   ]
  },
  {
   "cell_type": "code",
   "execution_count": 35,
   "metadata": {},
   "outputs": [],
   "source": [
    "# chromeOptions = webdriver.ChromeOptions()\n",
    "# chrome_options = Options()  \n",
    "\n",
    "# prefs = {\"download.default_directory\" : \"D:/SoftwareWebApps/Python/python_wb/Stocks/Data\"}\n",
    "\n",
    "# chromeOptions.add_argument(\"--headless\") \n",
    "# chromeOptions.add_experimental_option(\"prefs\",prefs)\n",
    "# chromedriver = \"D:/Installations/chromedriver.exe\"\n",
    "# driver = webdriver.Chrome(executable_path=chromedriver, chrome_options=chromeOptions)\n",
    "cdriver= DriverBuilder()\n",
    "driver =cdriver.get_driver(\"D:/SoftwareWebApps/Python/python_wb/Stocks/Data\")"
   ]
  },
  {
   "cell_type": "code",
   "execution_count": 36,
   "metadata": {},
   "outputs": [
    {
     "name": "stdout",
     "output_type": "stream",
     "text": [
      "08-05-2009 Fri\n",
      "File doen't exists\n",
      "07-05-2009 Thu\n",
      "File doen't exists\n",
      "06-05-2009 Wed\n",
      "File doen't exists\n",
      "05-05-2009 Tue\n",
      "File doen't exists\n",
      "04-05-2009 Mon\n",
      "File doen't exists\n",
      "02-05-2009 Sat\n"
     ]
    },
    {
     "ename": "KeyboardInterrupt",
     "evalue": "",
     "output_type": "error",
     "traceback": [
      "\u001b[1;31m---------------------------------------------------------------------------\u001b[0m",
      "\u001b[1;31mKeyboardInterrupt\u001b[0m                         Traceback (most recent call last)",
      "\u001b[1;32m<ipython-input-36-546ea37dd2c1>\u001b[0m in \u001b[0;36m<module>\u001b[1;34m()\u001b[0m\n\u001b[0;32m     28\u001b[0m     \u001b[1;32mif\u001b[0m \u001b[1;33m(\u001b[0m\u001b[0md\u001b[0m\u001b[1;33m.\u001b[0m\u001b[0mstrftime\u001b[0m\u001b[1;33m(\u001b[0m\u001b[1;34m'%a'\u001b[0m\u001b[1;33m)\u001b[0m\u001b[1;33m!=\u001b[0m\u001b[1;34m'Sun'\u001b[0m\u001b[1;33m)\u001b[0m\u001b[1;33m:\u001b[0m\u001b[1;33m\u001b[0m\u001b[0m\n\u001b[0;32m     29\u001b[0m         \u001b[0mprint\u001b[0m\u001b[1;33m(\u001b[0m\u001b[0md\u001b[0m\u001b[1;33m.\u001b[0m\u001b[0mstrftime\u001b[0m\u001b[1;33m(\u001b[0m\u001b[1;34m\"%d-%m-%Y %a\"\u001b[0m\u001b[1;33m)\u001b[0m\u001b[1;33m)\u001b[0m\u001b[1;33m\u001b[0m\u001b[0m\n\u001b[1;32m---> 30\u001b[1;33m         \u001b[0mgetbhavbydate\u001b[0m\u001b[1;33m(\u001b[0m\u001b[0md\u001b[0m\u001b[1;33m.\u001b[0m\u001b[0mstrftime\u001b[0m\u001b[1;33m(\u001b[0m\u001b[1;34m\"%d-%m-%Y\"\u001b[0m\u001b[1;33m)\u001b[0m\u001b[1;33m)\u001b[0m\u001b[1;33m\u001b[0m\u001b[0m\n\u001b[0m\u001b[0;32m     31\u001b[0m \u001b[1;31m# dstr=d.strftime(\"%Y/%b/cm%d%b%Ybhav.csv.zip\")\u001b[0m\u001b[1;33m\u001b[0m\u001b[1;33m\u001b[0m\u001b[0m\n\u001b[0;32m     32\u001b[0m \u001b[1;33m\u001b[0m\u001b[0m\n",
      "\u001b[1;32m<ipython-input-36-546ea37dd2c1>\u001b[0m in \u001b[0;36mgetbhavbydate\u001b[1;34m(datestr)\u001b[0m\n\u001b[0;32m     18\u001b[0m \u001b[1;33m\u001b[0m\u001b[0m\n\u001b[0;32m     19\u001b[0m     \u001b[0mgetdata\u001b[0m\u001b[1;33m[\u001b[0m\u001b[1;36m0\u001b[0m\u001b[1;33m]\u001b[0m\u001b[1;33m.\u001b[0m\u001b[0mclick\u001b[0m\u001b[1;33m(\u001b[0m\u001b[1;33m)\u001b[0m\u001b[1;33m\u001b[0m\u001b[0m\n\u001b[1;32m---> 20\u001b[1;33m     \u001b[0mtime\u001b[0m\u001b[1;33m.\u001b[0m\u001b[0msleep\u001b[0m\u001b[1;33m(\u001b[0m\u001b[1;36m2\u001b[0m\u001b[1;33m)\u001b[0m\u001b[1;33m\u001b[0m\u001b[0m\n\u001b[0m\u001b[0;32m     21\u001b[0m     \u001b[1;32mtry\u001b[0m\u001b[1;33m:\u001b[0m\u001b[1;33m\u001b[0m\u001b[0m\n\u001b[0;32m     22\u001b[0m         \u001b[0mfilelink\u001b[0m\u001b[1;33m=\u001b[0m\u001b[0mdriver\u001b[0m\u001b[1;33m.\u001b[0m\u001b[0mfind_element_by_xpath\u001b[0m\u001b[1;33m(\u001b[0m\u001b[1;34m\"//table/tbody/tr/td/a\"\u001b[0m\u001b[1;33m)\u001b[0m\u001b[1;33m\u001b[0m\u001b[0m\n",
      "\u001b[1;31mKeyboardInterrupt\u001b[0m: "
     ]
    }
   ],
   "source": [
    "def getbhavbydate(datestr):\n",
    "    driver.get(\"https://www.nseindia.com/products/content/equities/equities/archieve_eq.htm\")\n",
    "    report_eleme = Select(driver.find_element_by_id('h_filetype'))\n",
    "    report_eleme.select_by_visible_text('Bhavcopy')\n",
    "\n",
    "    datefield =  driver.find_element_by_id('date')\n",
    "\n",
    "\n",
    "    datefield.send_keys(datestr)\n",
    "    time.sleep(2)\n",
    "    # datefield.perform()\n",
    "    dayfield=driver.find_elements(By.CLASS_NAME, '  ui-datepicker-current-day')\n",
    "    dayfield[0].click()\n",
    "\n",
    "    time.sleep(1)\n",
    "\n",
    "    getdata=driver.find_elements(By.CLASS_NAME, 'getdata-button')\n",
    "\n",
    "    getdata[0].click()\n",
    "    time.sleep(2)\n",
    "    try:\n",
    "        filelink=driver.find_element_by_xpath(\"//table/tbody/tr/td/a\")\n",
    "        filelink.click()\n",
    "    except:\n",
    "        print(\"File doen't exists\")\n",
    "for i in range(733535,728110,-1): #728110\n",
    "    d = date.fromordinal(i)    \n",
    "    if (d.strftime('%a')!='Sun'):\n",
    "        print(d.strftime(\"%d-%m-%Y %a\"))\n",
    "        getbhavbydate(d.strftime(\"%d-%m-%Y\"))\n",
    "# dstr=d.strftime(\"%Y/%b/cm%d%b%Ybhav.csv.zip\")\n",
    "\n"
   ]
  },
  {
   "cell_type": "code",
   "execution_count": 19,
   "metadata": {},
   "outputs": [
    {
     "data": {
      "text/plain": [
       "733533"
      ]
     },
     "execution_count": 19,
     "metadata": {},
     "output_type": "execute_result"
    }
   ],
   "source": [
    "i"
   ]
  },
  {
   "cell_type": "code",
   "execution_count": null,
   "metadata": {
    "collapsed": true
   },
   "outputs": [],
   "source": []
  },
  {
   "cell_type": "code",
   "execution_count": 15,
   "metadata": {},
   "outputs": [
    {
     "data": {
      "text/plain": [
       "733538"
      ]
     },
     "execution_count": 15,
     "metadata": {},
     "output_type": "execute_result"
    }
   ],
   "source": [
    "# range(9,-1,-1) \n",
    "i"
   ]
  },
  {
   "cell_type": "code",
   "execution_count": 118,
   "metadata": {},
   "outputs": [
    {
     "data": {
      "text/plain": [
       "datetime.date(2018, 1, 20)"
      ]
     },
     "execution_count": 118,
     "metadata": {},
     "output_type": "execute_result"
    }
   ],
   "source": [
    "# url='https://www.nseindia.com/content/historical/EQUITIES/'\n",
    "# 'https://www.nseindia.com/content/historical/EQUITIES/1996/DEC/cm03DEC1996bhav.csv.zip'\n",
    "# def bhavfname(date):\n",
    "    \n",
    "# 1996/DEC/cm03DEC1996bhav.csv.zip'\n",
    "date.fromordinal(736713)"
   ]
  },
  {
   "cell_type": "code",
   "execution_count": 37,
   "metadata": {},
   "outputs": [
    {
     "data": {
      "text/plain": [
       "'https://www.nseindia.com/content/historical/EQUITIES/1996/Dec/cm03Dec1996bhav.csv.zip'"
      ]
     },
     "execution_count": 37,
     "metadata": {},
     "output_type": "execute_result"
    }
   ],
   "source": [
    "\n",
    "# date.today()\n",
    "# 728110\n",
    "# d = date.fromordinal(728110)\n",
    "\n",
    "\n",
    "# link=url+\n",
    "# link"
   ]
  },
  {
   "cell_type": "code",
   "execution_count": 109,
   "metadata": {},
   "outputs": [
    {
     "ename": "SyntaxError",
     "evalue": "unexpected EOF while parsing (<ipython-input-109-2e1b9eba9540>, line 5)",
     "output_type": "error",
     "traceback": [
      "\u001b[1;36m  File \u001b[1;32m\"<ipython-input-109-2e1b9eba9540>\"\u001b[1;36m, line \u001b[1;32m5\u001b[0m\n\u001b[1;33m    #         print(d.strftime(\"%d-%m-%Y\"))\u001b[0m\n\u001b[1;37m                                           ^\u001b[0m\n\u001b[1;31mSyntaxError\u001b[0m\u001b[1;31m:\u001b[0m unexpected EOF while parsing\n"
     ]
    }
   ],
   "source": [
    "# driver = webdriver.Chrome('D:/Installations/chromedriver.exe')\n",
    "# for i in range(728110,728210):\n",
    "#     d = date.fromordinal(i)    \n",
    "#     if (d.strftime('%a')!='Sun'):\n",
    "#         print(d.strftime(\"%d-%m-%Y\"))"
   ]
  },
  {
   "cell_type": "code",
   "execution_count": 21,
   "metadata": {},
   "outputs": [
    {
     "name": "stdout",
     "output_type": "stream",
     "text": [
      "Or like this:  18-01-20-00-08\n",
      "Month of year:  2018/Jan/cm20Jan2018bhav.csv.zip\n"
     ]
    }
   ],
   "source": [
    "import time\n",
    "import datetime\n",
    "\n",
    "# print \"Time in seconds since the epoch: %s\" %time.time()\n",
    "# print \"Current date and time: \" , datetime.datetime.now()\n",
    "print (\"Or like this: \" ,datetime.datetime.now().strftime(\"%y-%m-%d-%H-%M\"))\n",
    "\n",
    "\n",
    "# print \"Current year: \", datetime.date.today().strftime(\"%Y\")\n",
    "print( \"Month of year: \", datetime.date.today().strftime(\"%Y/%b/cm%d%b%Ybhav.csv.zip\"))\n",
    "# print \"Week number of the year: \", datetime.date.today().strftime(\"%W\")\n",
    "# print \"Weekday of the week: \", datetime.date.today().strftime(\"%w\")\n",
    "# print \"Day of year: \", datetime.date.today().strftime(\"%j\")\n",
    "# print \"Day of the month : \", datetime.date.today().strftime(\"%d\")\n",
    "# print \"Day of week: \", datetime.date.today().strftime(\"%A\")"
   ]
  }
 ],
 "metadata": {
  "kernelspec": {
   "display_name": "Python 3",
   "language": "python",
   "name": "python3"
  },
  "language_info": {
   "codemirror_mode": {
    "name": "ipython",
    "version": 3
   },
   "file_extension": ".py",
   "mimetype": "text/x-python",
   "name": "python",
   "nbconvert_exporter": "python",
   "pygments_lexer": "ipython3",
   "version": "3.6.1"
  }
 },
 "nbformat": 4,
 "nbformat_minor": 2
}
