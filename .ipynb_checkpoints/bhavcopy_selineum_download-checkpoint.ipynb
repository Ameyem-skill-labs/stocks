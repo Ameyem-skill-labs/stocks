{
 "cells": [
  {
   "cell_type": "code",
   "execution_count": 6,
   "metadata": {
    "collapsed": true
   },
   "outputs": [],
   "source": [
    "from selenium import webdriver\n",
    "from selenium.webdriver.common.keys import Keys\n",
    "from selenium.webdriver.common.by import By\n",
    "from selenium.webdriver.support.ui import WebDriverWait\n",
    "from selenium.webdriver.support import expected_conditions as EC\n",
    "from selenium.webdriver.support.ui import Select\n",
    "import time\n",
    "# import datetime\n",
    "from datetime import date, datetime\n"
   ]
  },
  {
   "cell_type": "code",
   "execution_count": 7,
   "metadata": {
    "collapsed": true
   },
   "outputs": [],
   "source": [
    "chromeOptions = webdriver.ChromeOptions()\n",
    "\n",
    "\n",
    "prefs = {\"download.default_directory\" : \"D:/SoftwareWebApps/Python/python_wb/Stocks/Data\"}\n",
    "\n",
    "# chromeOptions.add_argument(\"--headless\") \n",
    "chromeOptions.add_experimental_option(\"prefs\",prefs)\n",
    "chromedriver = \"D:/Installations/chromedriver.exe\"\n",
    "driver = webdriver.Chrome(executable_path=chromedriver, chrome_options=chromeOptions)\n",
    "# cdriver= DriverBuilder()\n",
    "# driver =cdriver().get_driver(self, download_location=\"D:/SoftwareWebApps/Python/python_wb/Stocks/Data\", headless=True)"
   ]
  },
  {
   "cell_type": "code",
   "execution_count": 17,
   "metadata": {},
   "outputs": [],
   "source": [
    "import os\n",
    "dirlist=os.listdir(\"D:/SoftwareWebApps/Python/python_wb/Stocks/Data/NSE\") \n",
    "dirlist[-100:]\n",
    "dates=[datetime.strptime(i, \"cm%d%b%Ybhav.csv.zip\") for i in dirlist]\n",
    "# dstr=d.strftime(\"cm%d%b%Ybhav.csv.zip\")"
   ]
  },
  {
   "cell_type": "code",
   "execution_count": 20,
   "metadata": {},
   "outputs": [
    {
     "data": {
      "text/plain": [
       "736767"
      ]
     },
     "execution_count": 20,
     "metadata": {},
     "output_type": "execute_result"
    }
   ],
   "source": []
  },
  {
   "cell_type": "code",
   "execution_count": 8,
   "metadata": {},
   "outputs": [
    {
     "name": "stdout",
     "output_type": "stream",
     "text": [
      "10-02-2018 Sat\n",
      "File doen't exists\n",
      "09-02-2018 Fri\n",
      "08-02-2018 Thu\n",
      "07-02-2018 Wed\n",
      "06-02-2018 Tue\n",
      "05-02-2018 Mon\n",
      "03-02-2018 Sat\n",
      "File doen't exists\n",
      "02-02-2018 Fri\n",
      "01-02-2018 Thu\n",
      "31-01-2018 Wed\n",
      "30-01-2018 Tue\n",
      "29-01-2018 Mon\n",
      "27-01-2018 Sat\n",
      "File doen't exists\n",
      "26-01-2018 Fri\n",
      "File doen't exists\n",
      "25-01-2018 Thu\n",
      "24-01-2018 Wed\n",
      "23-01-2018 Tue\n",
      "22-01-2018 Mon\n",
      "20-01-2018 Sat\n",
      "File doen't exists\n"
     ]
    }
   ],
   "source": [
    "def getbhavbydate(datestr):\n",
    "    driver.get(\"https://www.nseindia.com/products/content/equities/equities/archieve_eq.htm\")\n",
    "    report_eleme = Select(driver.find_element_by_id('h_filetype'))\n",
    "    report_eleme.select_by_visible_text('Bhavcopy')\n",
    "\n",
    "    datefield =  driver.find_element_by_id('date')\n",
    "\n",
    "\n",
    "    datefield.send_keys(datestr)\n",
    "    time.sleep(2)\n",
    "    # datefield.perform()\n",
    "    dayfield=driver.find_elements(By.CLASS_NAME, '  ui-datepicker-current-day')\n",
    "    dayfield[0].click()\n",
    "\n",
    "    time.sleep(1)\n",
    "\n",
    "    getdata=driver.find_elements(By.CLASS_NAME, 'getdata-button')\n",
    "\n",
    "    getdata[0].click()\n",
    "    time.sleep(2)\n",
    "    try:\n",
    "        filelink=driver.find_element_by_xpath(\"//table/tbody/tr/td/a\")\n",
    "        filelink.click()\n",
    "    except:\n",
    "        print(\"File doen't exists\")\n",
    "recentdate=datetime.now().toordinal()\n",
    "# olddate=date(2018, 1, 19).toordinal()   #old from 2007, 12, 5 to 2007, 6, 5 done\n",
    "olddate=max(dates).toordinal()+1;\n",
    "for i in range(olddate,recentdate+1): #728110\n",
    "    d = date.fromordinal(i)    \n",
    "    if (d.strftime('%a')!='Sun'):\n",
    "        print(d.strftime(\"%d-%m-%Y %a\"))\n",
    "        getbhavbydate(d.strftime(\"%d-%m-%Y\"))\n",
    "# dstr=d.strftime(\"%Y/%b/cm%d%b%Ybhav.csv.zip\")\n",
    "\n"
   ]
  },
  {
   "cell_type": "code",
   "execution_count": 6,
   "metadata": {},
   "outputs": [
    {
     "data": {
      "text/plain": [
       "736735"
      ]
     },
     "execution_count": 6,
     "metadata": {},
     "output_type": "execute_result"
    }
   ],
   "source": [
    "recentdate=datetime.now().toordinal()\n",
    "recentdate"
   ]
  },
  {
   "cell_type": "code",
   "execution_count": null,
   "metadata": {
    "collapsed": true
   },
   "outputs": [],
   "source": []
  },
  {
   "cell_type": "code",
   "execution_count": 11,
   "metadata": {},
   "outputs": [
    {
     "data": {
      "text/plain": [
       "729109"
      ]
     },
     "execution_count": 11,
     "metadata": {},
     "output_type": "execute_result"
    }
   ],
   "source": [
    "# range(9,-1,-1) \n",
    "i"
   ]
  },
  {
   "cell_type": "code",
   "execution_count": 118,
   "metadata": {},
   "outputs": [
    {
     "data": {
      "text/plain": [
       "datetime.date(2018, 1, 20)"
      ]
     },
     "execution_count": 118,
     "metadata": {},
     "output_type": "execute_result"
    }
   ],
   "source": [
    "# url='https://www.nseindia.com/content/historical/EQUITIES/'\n",
    "# 'https://www.nseindia.com/content/historical/EQUITIES/1996/DEC/cm03DEC1996bhav.csv.zip'\n",
    "# def bhavfname(date):\n",
    "    \n",
    "# 1996/DEC/cm03DEC1996bhav.csv.zip'\n",
    "date.fromordinal(736713)"
   ]
  },
  {
   "cell_type": "code",
   "execution_count": 37,
   "metadata": {},
   "outputs": [
    {
     "data": {
      "text/plain": [
       "'https://www.nseindia.com/content/historical/EQUITIES/1996/Dec/cm03Dec1996bhav.csv.zip'"
      ]
     },
     "execution_count": 37,
     "metadata": {},
     "output_type": "execute_result"
    }
   ],
   "source": [
    "\n",
    "# date.today()\n",
    "# 728110\n",
    "# d = date.fromordinal(728110)\n",
    "\n",
    "\n",
    "# link=url+\n",
    "# link"
   ]
  },
  {
   "cell_type": "code",
   "execution_count": 109,
   "metadata": {},
   "outputs": [
    {
     "ename": "SyntaxError",
     "evalue": "unexpected EOF while parsing (<ipython-input-109-2e1b9eba9540>, line 5)",
     "output_type": "error",
     "traceback": [
      "\u001b[1;36m  File \u001b[1;32m\"<ipython-input-109-2e1b9eba9540>\"\u001b[1;36m, line \u001b[1;32m5\u001b[0m\n\u001b[1;33m    #         print(d.strftime(\"%d-%m-%Y\"))\u001b[0m\n\u001b[1;37m                                           ^\u001b[0m\n\u001b[1;31mSyntaxError\u001b[0m\u001b[1;31m:\u001b[0m unexpected EOF while parsing\n"
     ]
    }
   ],
   "source": [
    "# driver = webdriver.Chrome('D:/Installations/chromedriver.exe')\n",
    "# for i in range(728110,728210):\n",
    "#     d = date.fromordinal(i)    \n",
    "#     if (d.strftime('%a')!='Sun'):\n",
    "#         print(d.strftime(\"%d-%m-%Y\"))"
   ]
  },
  {
   "cell_type": "code",
   "execution_count": 21,
   "metadata": {},
   "outputs": [
    {
     "name": "stdout",
     "output_type": "stream",
     "text": [
      "Or like this:  18-01-20-00-08\n",
      "Month of year:  2018/Jan/cm20Jan2018bhav.csv.zip\n"
     ]
    }
   ],
   "source": [
    "import time\n",
    "import datetime\n",
    "\n",
    "# print \"Time in seconds since the epoch: %s\" %time.time()\n",
    "# print \"Current date and time: \" , datetime.datetime.now()\n",
    "print (\"Or like this: \" ,datetime.datetime.now().strftime(\"%y-%m-%d-%H-%M\"))\n",
    "\n",
    "\n",
    "# print \"Current year: \", datetime.date.today().strftime(\"%Y\")\n",
    "print( \"Month of year: \", datetime.date.today().strftime(\"%Y/%b/cm%d%b%Ybhav.csv.zip\"))\n",
    "# print \"Week number of the year: \", datetime.date.today().strftime(\"%W\")\n",
    "# print \"Weekday of the week: \", datetime.date.today().strftime(\"%w\")\n",
    "# print \"Day of year: \", datetime.date.today().strftime(\"%j\")\n",
    "# print \"Day of the month : \", datetime.date.today().strftime(\"%d\")\n",
    "# print \"Day of week: \", datetime.date.today().strftime(\"%A\")"
   ]
  }
 ],
 "metadata": {
  "kernelspec": {
   "display_name": "Python 3",
   "language": "python",
   "name": "python3"
  },
  "language_info": {
   "codemirror_mode": {
    "name": "ipython",
    "version": 3
   },
   "file_extension": ".py",
   "mimetype": "text/x-python",
   "name": "python",
   "nbconvert_exporter": "python",
   "pygments_lexer": "ipython3",
   "version": "3.6.1"
  }
 },
 "nbformat": 4,
 "nbformat_minor": 2
}
